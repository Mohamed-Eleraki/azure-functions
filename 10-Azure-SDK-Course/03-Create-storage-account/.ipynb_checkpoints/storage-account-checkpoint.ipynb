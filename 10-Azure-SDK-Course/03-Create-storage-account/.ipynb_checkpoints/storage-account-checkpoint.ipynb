{
 "cells": [
  {
   "cell_type": "markdown",
   "metadata": {},
   "source": [
    "# Storage account creation"
   ]
  },
  {
   "cell_type": "code",
   "execution_count": 11,
   "metadata": {},
   "outputs": [],
   "source": [
    "# Install depnds\n",
    "# pip install -r requirements.txt"
   ]
  },
  {
   "cell_type": "code",
   "execution_count": 12,
   "metadata": {},
   "outputs": [],
   "source": [
    "import random\n",
    "from azure.identity import AzureCliCredential\n",
    "from azure.mgmt.storage import StorageManagementClient\n",
    "\n",
    "from setting import setting_fun"
   ]
  },
  {
   "cell_type": "code",
   "execution_count": 19,
   "metadata": {},
   "outputs": [],
   "source": [
    "# return func vars into vars\n",
    "(\n",
    "    AZURE_SUBSCRIPTION_ID,\n",
    "    DATA_LAKE_CONNECTION_STRING,\n",
    "    CONNECTION_STRING,\n",
    "    AZURE_CLIENT_ID,\n",
    "    AZURE_TENANT_ID,\n",
    "    AZURE_CLIENT_SECRET,\n",
    "    STORAGE_ACCESS_KEY,\n",
    "    DEFAULT_RESOURCE_GROUP,\n",
    "    DEFAULT_LOCATION,\n",
    ") = setting_fun()"
   ]
  },
  {
   "cell_type": "code",
   "execution_count": 20,
   "metadata": {},
   "outputs": [],
   "source": [
    "credential = AzureCliCredential()\n",
    "storage_client = StorageManagementClient(credential, AZURE_SUBSCRIPTION_ID)"
   ]
  },
  {
   "cell_type": "code",
   "execution_count": 21,
   "metadata": {},
   "outputs": [],
   "source": [
    "# Check Storage account name avaialbility\n",
    "st_name_availability = storage_client.storage_accounts.check_name_availability({'name':'erakitest1001'})"
   ]
  },
  {
   "cell_type": "code",
   "execution_count": 22,
   "metadata": {},
   "outputs": [
    {
     "data": {
      "text/plain": [
       "True"
      ]
     },
     "execution_count": 22,
     "metadata": {},
     "output_type": "execute_result"
    }
   ],
   "source": [
    "st_name_availability.name_available"
   ]
  },
  {
   "cell_type": "code",
   "execution_count": 23,
   "metadata": {},
   "outputs": [
    {
     "name": "stdout",
     "output_type": "stream",
     "text": [
      "Account name erakitest670 is available, creating a storage account\n",
      "erakitest670\n",
      "\n",
      "erakitest670 has been created successfully\n"
     ]
    }
   ],
   "source": [
    "STORAGE_ACCOUNT_BASE = \"erakitest\"\n",
    "\n",
    "while True:\n",
    "    account_name = f\"{STORAGE_ACCOUNT_BASE}{random.randint(1,1000)}\"\n",
    "\n",
    "    if not storage_client.storage_accounts.check_name_availability({'name': account_name}):\n",
    "        print(f\"Account name {account_name} is not available,trying again!\")\n",
    "    else:\n",
    "        print(f\"Account name {account_name} is available, creating a storage account\")\n",
    "        st_result = storage_client.storage_accounts.begin_create(\n",
    "            resource_group_name=DEFAULT_RESOURCE_GROUP,\n",
    "            account_name=account_name,\n",
    "            parameters={\n",
    "                'location': DEFAULT_LOCATION,\n",
    "                'KIND': 'StorageV2',\n",
    "                'sku': {\n",
    "                    'name': 'Standard_LRS'\n",
    "                },\n",
    "            }\n",
    "        )\n",
    "        st_result = st_result.result()\n",
    "        st_result_name = st_result.name\n",
    "        print(st_result_name, end=\"\\n\\n\")\n",
    "        print(f\"{st_result_name} has been created successfully\")\n",
    "        break  # very important - Break the loop"
   ]
  },
  {
   "cell_type": "markdown",
   "metadata": {},
   "source": [
    "### let's view what else this module can do "
   ]
  },
  {
   "cell_type": "code",
   "execution_count": 24,
   "metadata": {},
   "outputs": [
    {
     "name": "stdout",
     "output_type": "stream",
     "text": [
      "[\n",
      "    \"__class__\",\n",
      "    \"__delattr__\",\n",
      "    \"__dict__\",\n",
      "    \"__dir__\",\n",
      "    \"__doc__\",\n",
      "    \"__eq__\",\n",
      "    \"__format__\",\n",
      "    \"__ge__\",\n",
      "    \"__getattribute__\",\n",
      "    \"__getstate__\",\n",
      "    \"__gt__\",\n",
      "    \"__hash__\",\n",
      "    \"__init__\",\n",
      "    \"__init_subclass__\",\n",
      "    \"__le__\",\n",
      "    \"__lt__\",\n",
      "    \"__module__\",\n",
      "    \"__ne__\",\n",
      "    \"__new__\",\n",
      "    \"__reduce__\",\n",
      "    \"__reduce_ex__\",\n",
      "    \"__repr__\",\n",
      "    \"__setattr__\",\n",
      "    \"__sizeof__\",\n",
      "    \"__str__\",\n",
      "    \"__subclasshook__\",\n",
      "    \"__weakref__\",\n",
      "    \"_abort_hierarchical_namespace_migration_initial\",\n",
      "    \"_client\",\n",
      "    \"_config\",\n",
      "    \"_create_initial\",\n",
      "    \"_customer_initiated_migration_initial\",\n",
      "    \"_deserialize\",\n",
      "    \"_failover_initial\",\n",
      "    \"_hierarchical_namespace_migration_initial\",\n",
      "    \"_restore_blob_ranges_initial\",\n",
      "    \"_serialize\",\n",
      "    \"begin_abort_hierarchical_namespace_migration\",\n",
      "    \"begin_create\",\n",
      "    \"begin_customer_initiated_migration\",\n",
      "    \"begin_failover\",\n",
      "    \"begin_hierarchical_namespace_migration\",\n",
      "    \"begin_restore_blob_ranges\",\n",
      "    \"check_name_availability\",\n",
      "    \"delete\",\n",
      "    \"get_customer_initiated_migration\",\n",
      "    \"get_properties\",\n",
      "    \"list\",\n",
      "    \"list_account_sas\",\n",
      "    \"list_by_resource_group\",\n",
      "    \"list_keys\",\n",
      "    \"list_service_sas\",\n",
      "    \"models\",\n",
      "    \"regenerate_key\",\n",
      "    \"revoke_user_delegation_keys\",\n",
      "    \"update\"\n",
      "]\n"
     ]
    }
   ],
   "source": [
    "\n",
    "import json\n",
    "storage_client_attr = dir(storage_client.storage_accounts)\n",
    "print(json.dumps(storage_client_attr, indent=4, default=str))\n",
    "\n",
    " #    \"begin_abort_hierarchical_namespace_migration\",\n",
    " #    \"begin_create\",\n",
    " #    \"begin_customer_initiated_migration\",\n",
    " #    \"begin_failover\",\n",
    " #    \"begin_hierarchical_namespace_migration\",\n",
    " #    \"begin_restore_blob_ranges\",\n",
    " #    \"check_name_availability\",\n",
    " #    \"delete\",\n",
    " #    \"get_customer_initiated_migration\",\n",
    " #    \"get_properties\",\n",
    " #    \"list\",\n",
    " #    \"list_account_sas\",\n",
    " #    \"list_by_resource_group\",\n",
    " #    \"list_keys\",\n",
    " #    \"list_service_sas\",\n",
    " #    \"models\",\n",
    " #    \"regenerate_key\",\n",
    " #    \"revoke_user_delegation_keys\",\n",
    " #    \"update\""
   ]
  },
  {
   "cell_type": "code",
   "execution_count": null,
   "metadata": {},
   "outputs": [],
   "source": []
  },
  {
   "cell_type": "code",
   "execution_count": null,
   "metadata": {},
   "outputs": [],
   "source": []
  }
 ],
 "metadata": {
  "kernelspec": {
   "display_name": "Python 3 (ipykernel)",
   "language": "python",
   "name": "python3"
  },
  "language_info": {
   "codemirror_mode": {
    "name": "ipython",
    "version": 3
   },
   "file_extension": ".py",
   "mimetype": "text/x-python",
   "name": "python",
   "nbconvert_exporter": "python",
   "pygments_lexer": "ipython3",
   "version": "3.12.3"
  }
 },
 "nbformat": 4,
 "nbformat_minor": 4
}
