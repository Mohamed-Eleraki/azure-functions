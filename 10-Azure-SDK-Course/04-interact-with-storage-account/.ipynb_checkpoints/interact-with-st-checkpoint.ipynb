{
 "cells": [
  {
   "cell_type": "code",
   "execution_count": 1,
   "id": "f00d7f3f-b507-4129-9c3b-1511778857fe",
   "metadata": {},
   "outputs": [],
   "source": [
    "# Install depnds\n",
    "# pip install -r requirements.txt"
   ]
  },
  {
   "cell_type": "code",
   "execution_count": 47,
   "id": "dcd89a90-7283-44d7-8b58-d581ba57b722",
   "metadata": {},
   "outputs": [],
   "source": [
    "import os\n",
    "import json\n",
    "from azure.identity import AzureCliCredential\n",
    "from azure.mgmt.storage import StorageManagementClient\n",
    "from azure.storage.blob import BlobClient, BlobServiceClient\n",
    "from setting import setting_func"
   ]
  },
  {
   "cell_type": "code",
   "execution_count": 36,
   "id": "b885e447-7b90-4c41-8f44-c4c591912bcd",
   "metadata": {},
   "outputs": [],
   "source": [
    "# return func values\n",
    "(\n",
    "    AZURE_SUBSCRIPTION_ID,\n",
    "    DATA_LAKE_CONNECTION_STRING,\n",
    "    CONNECTION_STRING,\n",
    "    AZURE_CLIENT_ID,\n",
    "    AZURE_TENANT_ID,\n",
    "    AZURE_CLIENT_SECRET,\n",
    "    STORAGE_ACCESS_KEY,\n",
    "    DEFAULT_RESOURCE_GROUP,\n",
    "    DEFAULT_LOCATION,\n",
    ") = setting_func()"
   ]
  },
  {
   "cell_type": "code",
   "execution_count": 37,
   "id": "d1cb4dab-0a19-4ba2-843c-282b764b8e0f",
   "metadata": {},
   "outputs": [],
   "source": [
    "credential = AzureCliCredential()\n",
    "storage_mgmt_client = StorageManagementClient(credential, AZURE_SUBSCRIPTION_ID)"
   ]
  },
  {
   "cell_type": "code",
   "execution_count": 38,
   "id": "50b75ffd-1d22-431d-a6cb-780a577643da",
   "metadata": {},
   "outputs": [
    {
     "name": "stdout",
     "output_type": "stream",
     "text": [
      "erakitest670: https://erakitest670.blob.core.windows.net/\n",
      "erakitest847: https://erakitest847.blob.core.windows.net/\n",
      "testst3001: https://testst3001.blob.core.windows.net/\n"
     ]
    }
   ],
   "source": [
    "# list storage accounts - by management client\n",
    "for st in storage_mgmt_client.storage_accounts.list():\n",
    "    print(f\"{st.name}: {st.primary_endpoints.blob}\")"
   ]
  },
  {
   "cell_type": "code",
   "execution_count": 39,
   "id": "b7cf42f9-fd51-4c14-b331-4f78ac0cc664",
   "metadata": {},
   "outputs": [
    {
     "data": {
      "text/plain": [
       "'container01'"
      ]
     },
     "execution_count": 39,
     "metadata": {},
     "output_type": "execute_result"
    }
   ],
   "source": [
    "# Create a container - by management client\n",
    "container = storage_mgmt_client.blob_containers.create(\n",
    "    resource_group_name=DEFAULT_RESOURCE_GROUP,\n",
    "    account_name='testst3001',\n",
    "    container_name='container01',\n",
    "    blob_container={}\n",
    ")\n",
    "\n",
    "container.name"
   ]
  },
  {
   "cell_type": "code",
   "execution_count": 40,
   "id": "11f11d2a-7e40-4e89-8339-448763ef5a4f",
   "metadata": {},
   "outputs": [],
   "source": [
    "# upload a file using BlobClient\n",
    "blob_client = BlobClient(  # setting up blob client\n",
    "    account_url='https://testst3001.blob.core.windows.net/',\n",
    "    container_name=container.name,\n",
    "    blob_name='sample-blob-cloud.txt',\n",
    "    credential=credential\n",
    ")"
   ]
  },
  {
   "cell_type": "code",
   "execution_count": 48,
   "id": "4285a035-b393-495f-b0c6-4af347417daa",
   "metadata": {},
   "outputs": [
    {
     "name": "stdout",
     "output_type": "stream",
     "text": [
      "[\n",
      "    \"__annotations__\",\n",
      "    \"__class__\",\n",
      "    \"__delattr__\",\n",
      "    \"__dict__\",\n",
      "    \"__dir__\",\n",
      "    \"__doc__\",\n",
      "    \"__enter__\",\n",
      "    \"__eq__\",\n",
      "    \"__exit__\",\n",
      "    \"__format__\",\n",
      "    \"__ge__\",\n",
      "    \"__getattribute__\",\n",
      "    \"__getstate__\",\n",
      "    \"__gt__\",\n",
      "    \"__hash__\",\n",
      "    \"__init__\",\n",
      "    \"__init_subclass__\",\n",
      "    \"__le__\",\n",
      "    \"__lt__\",\n",
      "    \"__module__\",\n",
      "    \"__ne__\",\n",
      "    \"__new__\",\n",
      "    \"__reduce__\",\n",
      "    \"__reduce_ex__\",\n",
      "    \"__repr__\",\n",
      "    \"__setattr__\",\n",
      "    \"__sizeof__\",\n",
      "    \"__str__\",\n",
      "    \"__subclasshook__\",\n",
      "    \"__weakref__\",\n",
      "    \"_batch_send\",\n",
      "    \"_configure_encryption\",\n",
      "    \"_create_pipeline\",\n",
      "    \"_format_query_string\",\n",
      "    \"_format_url\",\n",
      "    \"_get_container_client\",\n",
      "    \"abort_copy\",\n",
      "    \"acquire_lease\",\n",
      "    \"api_version\",\n",
      "    \"append_block\",\n",
      "    \"append_block_from_url\",\n",
      "    \"clear_page\",\n",
      "    \"close\",\n",
      "    \"commit_block_list\",\n",
      "    \"create_append_blob\",\n",
      "    \"create_page_blob\",\n",
      "    \"create_snapshot\",\n",
      "    \"delete_blob\",\n",
      "    \"delete_immutability_policy\",\n",
      "    \"download_blob\",\n",
      "    \"exists\",\n",
      "    \"from_blob_url\",\n",
      "    \"from_connection_string\",\n",
      "    \"get_account_information\",\n",
      "    \"get_blob_properties\",\n",
      "    \"get_blob_tags\",\n",
      "    \"get_block_list\",\n",
      "    \"get_page_range_diff_for_managed_disk\",\n",
      "    \"get_page_ranges\",\n",
      "    \"list_page_ranges\",\n",
      "    \"location_mode\",\n",
      "    \"primary_endpoint\",\n",
      "    \"primary_hostname\",\n",
      "    \"query_blob\",\n",
      "    \"resize_blob\",\n",
      "    \"seal_append_blob\",\n",
      "    \"secondary_endpoint\",\n",
      "    \"secondary_hostname\",\n",
      "    \"set_blob_metadata\",\n",
      "    \"set_blob_tags\",\n",
      "    \"set_http_headers\",\n",
      "    \"set_immutability_policy\",\n",
      "    \"set_legal_hold\",\n",
      "    \"set_premium_page_blob_tier\",\n",
      "    \"set_sequence_number\",\n",
      "    \"set_standard_blob_tier\",\n",
      "    \"stage_block\",\n",
      "    \"stage_block_from_url\",\n",
      "    \"start_copy_from_url\",\n",
      "    \"undelete_blob\",\n",
      "    \"upload_blob\",\n",
      "    \"upload_blob_from_url\",\n",
      "    \"upload_page\",\n",
      "    \"upload_pages_from_url\",\n",
      "    \"url\"\n",
      "]\n"
     ]
    }
   ],
   "source": [
    "# list BlobClient methods\n",
    "blob_client_methods = dir(BlobClient)\n",
    "print(json.dumps(blob_client_methods, indent=4, default=str))\n",
    "\n",
    "\n",
    "\n",
    "#     \"acquire_lease\",\n",
    "#     \"api_version\",\n",
    "#     \"append_block\",\n",
    "#     \"append_block_from_url\",\n",
    "#     \"clear_page\",\n",
    "#     \"close\",\n",
    "#     \"commit_block_list\",\n",
    "#     \"create_append_blob\",\n",
    "#     \"create_page_blob\",\n",
    "#     \"create_snapshot\",\n",
    "#     \"delete_blob\", 🌟\n",
    "#     \"delete_immutability_policy\",\n",
    "#     \"download_blob\", 🌟\n",
    "#     \"exists\",\n",
    "#     \"from_blob_url\", \n",
    "#     \"from_connection_string\",\n",
    "#     \"get_account_information\",\n",
    "#     \"get_blob_properties\",  🌟\n",
    "#     \"get_blob_tags\",\n",
    "#     \"get_block_list\",\n",
    "#     \"get_page_range_diff_for_managed_disk\",\n",
    "#     \"get_page_ranges\",\n",
    "#     \"list_page_ranges\",\n",
    "#     \"location_mode\",\n",
    "#     \"primary_endpoint\",\n",
    "#     \"primary_hostname\",\n",
    "#     \"query_blob\",\n",
    "#     \"resize_blob\",\n",
    "#     \"seal_append_blob\",\n",
    "#     \"secondary_endpoint\",\n",
    "#     \"secondary_hostname\",\n",
    "#     \"set_blob_metadata\",\n",
    "#     \"set_blob_tags\",  🌟\n",
    "#     \"set_http_headers\",\n",
    "#     \"set_immutability_policy\",\n",
    "#     \"set_legal_hold\",\n",
    "#     \"set_premium_page_blob_tier\",\n",
    "#     \"set_sequence_number\",\n",
    "#     \"set_standard_blob_tier\",\n",
    "#     \"stage_block\",\n",
    "#     \"stage_block_from_url\",\n",
    "#     \"start_copy_from_url\",\n",
    "#     \"undelete_blob\",\n",
    "#     \"upload_blob\",  🌟\n",
    "#     \"upload_blob_from_url\",  🌟\n",
    "#     \"upload_page\",\n",
    "#     \"upload_pages_from_url\",  🌟\n",
    "#     \"url\""
   ]
  },
  {
   "cell_type": "code",
   "execution_count": 41,
   "id": "68833aa6-e84c-4e7a-a092-c7a482142683",
   "metadata": {},
   "outputs": [
    {
     "name": "stdout",
     "output_type": "stream",
     "text": [
      "/home/eraki/Documents/gitReposPersonal/azure-functions/10-Azure-SDK-Course/04-interact-with-storage-account\n"
     ]
    }
   ],
   "source": [
    "# get currnet path\n",
    "current_path = os.getcwd()\n",
    "print(current_path)"
   ]
  },
  {
   "cell_type": "code",
   "execution_count": 42,
   "id": "c1a76af6-bfbc-49e4-9736-f7380596bd60",
   "metadata": {},
   "outputs": [],
   "source": [
    "# create and upload a file\n",
    "with open('./sample-blob-local.txt', 'rb') as file:\n",
    "    blob_client.upload_blob(file)  # endure you set the require RBAC of storage account \n",
    "    # (i.e. I set it as an owner for test) and wait 3 min after"
   ]
  },
  {
   "cell_type": "code",
   "execution_count": 49,
   "id": "2726dd25-77a4-4d6a-82c8-1e1e9990aca4",
   "metadata": {},
   "outputs": [],
   "source": [
    "# list blobs by BlobServiceClient\n",
    "# with BlobServiceClient we able to configure storage account properties\n",
    "blob_service_client = BlobServiceClient(\n",
    "    account_url='https://testst3001.blob.core.windows.net/',\n",
    "    credential=credential\n",
    ")"
   ]
  },
  {
   "cell_type": "code",
   "execution_count": 50,
   "id": "8c0bdeae-c98c-4c95-81e0-862c1aedcdba",
   "metadata": {},
   "outputs": [],
   "source": [
    "container_client = blob_service_client.get_container_client(container=container.name)"
   ]
  },
  {
   "cell_type": "code",
   "execution_count": 51,
   "id": "eccfeb25-5d5d-4745-9e0f-ab7b2004b26a",
   "metadata": {},
   "outputs": [
    {
     "name": "stdout",
     "output_type": "stream",
     "text": [
      "sample-blob-cloud.txt\n"
     ]
    }
   ],
   "source": [
    "for blob in container_client.list_blob_names():\n",
    "    print(blob)"
   ]
  },
  {
   "cell_type": "code",
   "execution_count": 56,
   "id": "82fe9561-d264-4ff7-876a-a8ba9d80cbb9",
   "metadata": {},
   "outputs": [],
   "source": [
    "# download blobs\n",
    "download_blob_client = blob_service_client.get_blob_client(  # configure client\n",
    "    container=container.name,\n",
    "    blob=\"sample-blob-cloud.txt\"\n",
    ")\n",
    "\n",
    "# download into a file\n",
    "with open('./sample-blob-local.txt', 'wb') as data:\n",
    "    download_stream = download_blob_client.download_blob()\n",
    "    data.write(download_stream.readall())\n",
    "\n",
    "# delete the file\n",
    "download_blob_client.delete_blob()"
   ]
  },
  {
   "cell_type": "code",
   "execution_count": 52,
   "id": "1d3de3a8-dfde-46c2-9972-57f6957ec97b",
   "metadata": {},
   "outputs": [
    {
     "name": "stdout",
     "output_type": "stream",
     "text": [
      "[\n",
      "    \"__annotations__\",\n",
      "    \"__class__\",\n",
      "    \"__delattr__\",\n",
      "    \"__dict__\",\n",
      "    \"__dir__\",\n",
      "    \"__doc__\",\n",
      "    \"__enter__\",\n",
      "    \"__eq__\",\n",
      "    \"__exit__\",\n",
      "    \"__format__\",\n",
      "    \"__ge__\",\n",
      "    \"__getattribute__\",\n",
      "    \"__getstate__\",\n",
      "    \"__gt__\",\n",
      "    \"__hash__\",\n",
      "    \"__init__\",\n",
      "    \"__init_subclass__\",\n",
      "    \"__le__\",\n",
      "    \"__lt__\",\n",
      "    \"__module__\",\n",
      "    \"__ne__\",\n",
      "    \"__new__\",\n",
      "    \"__reduce__\",\n",
      "    \"__reduce_ex__\",\n",
      "    \"__repr__\",\n",
      "    \"__setattr__\",\n",
      "    \"__sizeof__\",\n",
      "    \"__str__\",\n",
      "    \"__subclasshook__\",\n",
      "    \"__weakref__\",\n",
      "    \"_batch_send\",\n",
      "    \"_configure_encryption\",\n",
      "    \"_create_pipeline\",\n",
      "    \"_format_query_string\",\n",
      "    \"_format_url\",\n",
      "    \"_rename_container\",\n",
      "    \"api_version\",\n",
      "    \"close\",\n",
      "    \"create_container\",\n",
      "    \"delete_container\",\n",
      "    \"find_blobs_by_tags\",\n",
      "    \"from_connection_string\",\n",
      "    \"get_account_information\",\n",
      "    \"get_blob_client\",\n",
      "    \"get_container_client\",\n",
      "    \"get_service_properties\",\n",
      "    \"get_service_stats\",\n",
      "    \"get_user_delegation_key\",\n",
      "    \"list_containers\",\n",
      "    \"location_mode\",\n",
      "    \"primary_endpoint\",\n",
      "    \"primary_hostname\",\n",
      "    \"secondary_endpoint\",\n",
      "    \"secondary_hostname\",\n",
      "    \"set_service_properties\",\n",
      "    \"undelete_container\",\n",
      "    \"url\"\n",
      "]\n"
     ]
    }
   ],
   "source": [
    "# list BlobServiceClient methods\n",
    "blob_service_client_methods = dir(BlobServiceClient)\n",
    "print(json.dumps(blob_service_client_methods, indent=4, default=str))\n",
    "\n",
    "    # \"api_version\",\n",
    "    # \"close\",\n",
    "    # \"create_container\",  🌟\n",
    "    # \"delete_container\",  🌟\n",
    "    # \"find_blobs_by_tags\",  🌟\n",
    "    # \"from_connection_string\",\n",
    "    # \"get_account_information\",\n",
    "    # \"get_blob_client\",\n",
    "    # \"get_container_client\",\n",
    "    # \"get_service_properties\",\n",
    "    # \"get_service_stats\",\n",
    "    # \"get_user_delegation_key\",\n",
    "    # \"list_containers\",  🌟\n",
    "    # \"location_mode\",\n",
    "    # \"primary_endpoint\",\n",
    "    # \"primary_hostname\",\n",
    "    # \"secondary_endpoint\",\n",
    "    # \"secondary_hostname\",\n",
    "    # \"set_service_properties\",\n",
    "    # \"undelete_container\",\n",
    "    # \"url\""
   ]
  },
  {
   "cell_type": "code",
   "execution_count": null,
   "id": "d189479c-4c4c-4cc9-853a-a6101d224dc9",
   "metadata": {},
   "outputs": [],
   "source": []
  },
  {
   "cell_type": "code",
   "execution_count": null,
   "id": "6ec47aee-471a-4489-9fde-752dbf39dfde",
   "metadata": {},
   "outputs": [],
   "source": []
  }
 ],
 "metadata": {
  "kernelspec": {
   "display_name": "Python 3 (ipykernel)",
   "language": "python",
   "name": "python3"
  },
  "language_info": {
   "codemirror_mode": {
    "name": "ipython",
    "version": 3
   },
   "file_extension": ".py",
   "mimetype": "text/x-python",
   "name": "python",
   "nbconvert_exporter": "python",
   "pygments_lexer": "ipython3",
   "version": "3.12.3"
  }
 },
 "nbformat": 4,
 "nbformat_minor": 5
}
