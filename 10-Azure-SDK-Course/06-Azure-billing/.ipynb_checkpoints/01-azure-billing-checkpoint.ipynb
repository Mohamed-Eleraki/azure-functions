{
 "cells": [
  {
   "cell_type": "markdown",
   "metadata": {},
   "source": [
    "## Azure Billing and cost management\n",
    "\n",
    "**For Billing management we gonna use:**\n",
    "- `azure-mgmt-billing` Used for Billing accounts, Billing profiles, Customers Invoices.\n",
    "<br><br>\n",
    "\n",
    "**For cost management we gonna use:**\n",
    "- `azure-mgmt-cost-management` Used for Usage date forcasted usage, Cost data export.\n",
    "<br><br>\n",
    "\n",
    "**For consumption management we gonna use:**\n",
    "- `azure-mgmt-consumption` Used for Budgets, Usage details, Charges."
   ]
  },
  {
   "cell_type": "markdown",
   "metadata": {},
   "source": [
    "to get billing information in Python, we'll use the ***BillingManagementClient*** from the `azure-mgmt-billing` library.\n",
    "We can use this to interact with:\n",
    "- Billing accounts.\n",
    "- Billing profiles.\n",
    "- Customers.\n",
    "- Invoices.\n",
    "- And more...\n"
   ]
  },
  {
   "cell_type": "code",
   "execution_count": 1,
   "metadata": {},
   "outputs": [],
   "source": [
    "import json\n",
    "from azure.identity import AzureCliCredential\n",
    "from azure.mgmt.billing import BillingManagementClient\n",
    "from setting import setting_func"
   ]
  },
  {
   "cell_type": "markdown",
   "metadata": {},
   "source": [
    "*the `setting` file include a function fetches some secret in `.env` file.\n",
    "By Following that way we are avoiding hard codinf secrets. meanwhile `.env` shouldn't push to repo.*<br>\n",
    "\n",
    "The `.env` content should be like the following:<br>\n",
    "`AZURE_SUBSCRIPTION_ID=\"SUBSCRIPTION_ID\"`"
   ]
  },
  {
   "cell_type": "code",
   "execution_count": 2,
   "metadata": {},
   "outputs": [],
   "source": [
    "(  # Fetching settings from the setting module\n",
    "    AZURE_SUBSCRIPTION_ID,\n",
    "    DATA_LAKE_CONNECTION_STRING,\n",
    "    CONNECTION_STRING,\n",
    "    AZURE_CLIENT_ID,\n",
    "    AZURE_TENANT_ID,\n",
    "    AZURE_CLIENT_SECRET,\n",
    "    STORAGE_ACCESS_KEY,\n",
    "    DEFAULT_RESOURCE_GROUP,\n",
    "    DEFAULT_LOCATION,\n",
    "    BILLING_ACCOUNT_NAME,\n",
    ") = setting_func()"
   ]
  },
  {
   "cell_type": "code",
   "execution_count": 3,
   "metadata": {},
   "outputs": [],
   "source": [
    "credential = AzureCliCredential()  # Using Azure CLI credentials for authentication\n",
    "billing_client = BillingManagementClient(credential, AZURE_SUBSCRIPTION_ID)  # Creating a billing client and passing the required parameters"
   ]
  },
  {
   "cell_type": "markdown",
   "metadata": {},
   "source": [
    "Run the following command in your terminal to get authenticated:\n",
    "```bash\n",
    "az login --scope https://management.azure.com/.default\n",
    "```"
   ]
  },
  {
   "cell_type": "code",
   "execution_count": 4,
   "metadata": {},
   "outputs": [
    {
     "name": "stdout",
     "output_type": "stream",
     "text": [
      "<azure.mgmt.billing._billing_management_client.BillingManagementClient object at 0x7f28697955e0>\n"
     ]
    }
   ],
   "source": [
    "print(billing_client)  # Output the billing client object to verify successful creation\n",
    "# billing client is an object include # methods to interact with Azure Billing APIs, such as retrieving invoices, billing periods, etc."
   ]
  },
  {
   "cell_type": "code",
   "execution_count": 5,
   "metadata": {},
   "outputs": [
    {
     "name": "stdout",
     "output_type": "stream",
     "text": [
      "[\n",
      "    \"__class__\",\n",
      "    \"__delattr__\",\n",
      "    \"__dict__\",\n",
      "    \"__dir__\",\n",
      "    \"__doc__\",\n",
      "    \"__enter__\",\n",
      "    \"__eq__\",\n",
      "    \"__exit__\",\n",
      "    \"__format__\",\n",
      "    \"__ge__\",\n",
      "    \"__getattribute__\",\n",
      "    \"__getstate__\",\n",
      "    \"__gt__\",\n",
      "    \"__hash__\",\n",
      "    \"__init__\",\n",
      "    \"__init_subclass__\",\n",
      "    \"__le__\",\n",
      "    \"__lt__\",\n",
      "    \"__module__\",\n",
      "    \"__ne__\",\n",
      "    \"__new__\",\n",
      "    \"__reduce__\",\n",
      "    \"__reduce_ex__\",\n",
      "    \"__repr__\",\n",
      "    \"__setattr__\",\n",
      "    \"__sizeof__\",\n",
      "    \"__str__\",\n",
      "    \"__subclasshook__\",\n",
      "    \"__weakref__\",\n",
      "    \"_client\",\n",
      "    \"_config\",\n",
      "    \"_deserialize\",\n",
      "    \"_send_request\",\n",
      "    \"_serialize\",\n",
      "    \"address\",\n",
      "    \"agreements\",\n",
      "    \"associated_tenants\",\n",
      "    \"available_balances\",\n",
      "    \"billing_accounts\",\n",
      "    \"billing_permissions\",\n",
      "    \"billing_profiles\",\n",
      "    \"billing_property\",\n",
      "    \"billing_requests\",\n",
      "    \"billing_role_assignments\",\n",
      "    \"billing_role_definition\",\n",
      "    \"billing_subscriptions\",\n",
      "    \"billing_subscriptions_aliases\",\n",
      "    \"close\",\n",
      "    \"customers\",\n",
      "    \"departments\",\n",
      "    \"enrollment_accounts\",\n",
      "    \"invoice_sections\",\n",
      "    \"invoices\",\n",
      "    \"operations\",\n",
      "    \"partner_transfers\",\n",
      "    \"payment_methods\",\n",
      "    \"policies\",\n",
      "    \"products\",\n",
      "    \"recipient_transfers\",\n",
      "    \"reservation_orders\",\n",
      "    \"reservations\",\n",
      "    \"savings_plan_orders\",\n",
      "    \"savings_plans\",\n",
      "    \"transactions\",\n",
      "    \"transfers\"\n",
      "]\n"
     ]
    }
   ],
   "source": [
    "billing_client_methods = dir(billing_client)  # Getting the list of methods available in the billing client\n",
    "print(json.dumps(billing_client_methods, indent=4, default=str))  # Printing the methods in a formatted JSON style"
   ]
  },
  {
   "cell_type": "markdown",
   "metadata": {},
   "source": [
    "**Here's the methods that billing client can do:**\n",
    "*to discover more use `dir` method*\n",
    "\n",
    "    \"_client\",\n",
    "    \"_config\",\n",
    "    \"_deserialize\",\n",
    "    \"_send_request\",\n",
    "    \"_serialize\",\n",
    "    \"address\",\n",
    "    \"agreements\",\n",
    "    \"associated_tenants\",\n",
    "    \"available_balances\",\n",
    "    \"billing_accounts\",\n",
    "    \"billing_permissions\",\n",
    "    \"billing_profiles\",\n",
    "    \"billing_property\",\n",
    "    \"billing_requests\",\n",
    "    \"billing_role_assignments\",\n",
    "    \"billing_role_definition\",\n",
    "    \"billing_subscriptions\",\n",
    "    \"billing_subscriptions_aliases\",\n",
    "    \"close\",\n",
    "    \"customers\",\n",
    "    \"departments\",\n",
    "    \"enrollment_accounts\",\n",
    "    \"invoice_sections\",\n",
    "    \"invoices\",\n",
    "    \"operations\",\n",
    "    \"partner_transfers\",\n",
    "    \"payment_methods\",\n",
    "    \"policies\",\n",
    "    \"products\",\n",
    "    \"recipient_transfers\",\n",
    "    \"reservation_orders\",\n",
    "    \"reservations\",\n",
    "    \"savings_plan_orders\",\n",
    "    \"savings_plans\",\n",
    "    \"transactions\",\n",
    "    \"transfers\""
   ]
  },
  {
   "cell_type": "markdown",
   "metadata": {},
   "source": [
    "**List `billing_accounts` methods**"
   ]
  },
  {
   "cell_type": "code",
   "execution_count": 6,
   "metadata": {},
   "outputs": [
    {
     "name": "stdout",
     "output_type": "stream",
     "text": [
      "[\n",
      "    \"__class__\",\n",
      "    \"__delattr__\",\n",
      "    \"__dict__\",\n",
      "    \"__dir__\",\n",
      "    \"__doc__\",\n",
      "    \"__eq__\",\n",
      "    \"__format__\",\n",
      "    \"__ge__\",\n",
      "    \"__getattribute__\",\n",
      "    \"__getstate__\",\n",
      "    \"__gt__\",\n",
      "    \"__hash__\",\n",
      "    \"__init__\",\n",
      "    \"__init_subclass__\",\n",
      "    \"__le__\",\n",
      "    \"__lt__\",\n",
      "    \"__module__\",\n",
      "    \"__ne__\",\n",
      "    \"__new__\",\n",
      "    \"__reduce__\",\n",
      "    \"__reduce_ex__\",\n",
      "    \"__repr__\",\n",
      "    \"__setattr__\",\n",
      "    \"__sizeof__\",\n",
      "    \"__str__\",\n",
      "    \"__subclasshook__\",\n",
      "    \"__weakref__\",\n",
      "    \"_add_payment_terms_initial\",\n",
      "    \"_cancel_payment_terms_initial\",\n",
      "    \"_client\",\n",
      "    \"_config\",\n",
      "    \"_deserialize\",\n",
      "    \"_serialize\",\n",
      "    \"_update_initial\",\n",
      "    \"begin_add_payment_terms\",\n",
      "    \"begin_cancel_payment_terms\",\n",
      "    \"begin_update\",\n",
      "    \"confirm_transition\",\n",
      "    \"get\",\n",
      "    \"list\",\n",
      "    \"list_invoice_sections_by_create_subscription_permission\",\n",
      "    \"models\",\n",
      "    \"validate_payment_terms\"\n",
      "]\n"
     ]
    }
   ],
   "source": [
    "billing_accounts_methods = dir(billing_client.billing_accounts)  # Getting the list of methods available in the billing accounts\n",
    "print(json.dumps(billing_accounts_methods, indent=4, default=str))  # Printing the methods in a formatted JSON style"
   ]
  },
  {
   "cell_type": "markdown",
   "metadata": {},
   "source": [
    "**List billing account attributes**"
   ]
  },
  {
   "cell_type": "code",
   "execution_count": 7,
   "metadata": {},
   "outputs": [
    {
     "name": "stdout",
     "output_type": "stream",
     "text": [
      "Billing Account Name: ca9bd292-e90d-5f53-0554-6dffa0ce3a9c:c1ca22c2-98ed-43c5-91bc-feba5db2d6ed_2019-05-31,\n",
      "ID: /providers/Microsoft.Billing/billingAccounts/ca9bd292-e90d-5f53-0554-6dffa0ce3a9c:c1ca22c2-98ed-43c5-91bc-feba5db2d6ed_2019-05-31, \n",
      "Account Type: Microsoft.Billing/billingAccounts\n"
     ]
    }
   ],
   "source": [
    "for account in billing_client.billing_accounts.list():\n",
    "    #print(json.dumps(account, indent=4, default=str))\n",
    "    print(f\"Billing Account Name: {account.name},\\nID: {account.id}, \\nAccount Type: {account.type}\")  # Iterating through billing accounts and printing their names and IDs"
   ]
  },
  {
   "cell_type": "markdown",
   "metadata": {},
   "source": [
    "**List Invoices**"
   ]
  },
  {
   "cell_type": "code",
   "execution_count": 8,
   "metadata": {},
   "outputs": [
    {
     "name": "stdout",
     "output_type": "stream",
     "text": [
      "[\n",
      "    \"__class__\",\n",
      "    \"__delattr__\",\n",
      "    \"__dict__\",\n",
      "    \"__dir__\",\n",
      "    \"__doc__\",\n",
      "    \"__eq__\",\n",
      "    \"__format__\",\n",
      "    \"__ge__\",\n",
      "    \"__getattribute__\",\n",
      "    \"__getstate__\",\n",
      "    \"__gt__\",\n",
      "    \"__hash__\",\n",
      "    \"__init__\",\n",
      "    \"__init_subclass__\",\n",
      "    \"__le__\",\n",
      "    \"__lt__\",\n",
      "    \"__module__\",\n",
      "    \"__ne__\",\n",
      "    \"__new__\",\n",
      "    \"__reduce__\",\n",
      "    \"__reduce_ex__\",\n",
      "    \"__repr__\",\n",
      "    \"__setattr__\",\n",
      "    \"__sizeof__\",\n",
      "    \"__str__\",\n",
      "    \"__subclasshook__\",\n",
      "    \"__weakref__\",\n",
      "    \"_amend_initial\",\n",
      "    \"_client\",\n",
      "    \"_config\",\n",
      "    \"_deserialize\",\n",
      "    \"_download_by_billing_account_initial\",\n",
      "    \"_download_by_billing_subscription_initial\",\n",
      "    \"_download_documents_by_billing_account_initial\",\n",
      "    \"_download_documents_by_billing_subscription_initial\",\n",
      "    \"_download_summary_by_billing_account_initial\",\n",
      "    \"_serialize\",\n",
      "    \"begin_amend\",\n",
      "    \"begin_download_by_billing_account\",\n",
      "    \"begin_download_by_billing_subscription\",\n",
      "    \"begin_download_documents_by_billing_account\",\n",
      "    \"begin_download_documents_by_billing_subscription\",\n",
      "    \"begin_download_summary_by_billing_account\",\n",
      "    \"get\",\n",
      "    \"get_by_billing_account\",\n",
      "    \"get_by_billing_subscription\",\n",
      "    \"list_by_billing_account\",\n",
      "    \"list_by_billing_profile\",\n",
      "    \"list_by_billing_subscription\",\n",
      "    \"models\"\n",
      "]\n"
     ]
    }
   ],
   "source": [
    "billing_client_invoice_methods = dir(billing_client.invoices)  # Getting the list of methods available in the invoices\n",
    "print(json.dumps(billing_client_invoice_methods, indent=4, default=str))  # Printing the methods in a formatted JSON style"
   ]
  },
  {
   "cell_type": "code",
   "execution_count": 9,
   "metadata": {},
   "outputs": [
    {
     "name": "stdout",
     "output_type": "stream",
     "text": [
      "Help on method list_by_billing_subscription in module azure.mgmt.billing.operations._invoices_operations:\n",
      "\n",
      "list_by_billing_subscription(period_start_date: Optional[datetime.date] = None, period_end_date: Optional[datetime.date] = None, filter: Optional[str] = None, order_by: Optional[str] = None, top: Optional[int] = None, skip: Optional[int] = None, count: Optional[bool] = None, search: Optional[str] = None, **kwargs: Any) -> Iterable[ForwardRef('_models.Invoice')] method of azure.mgmt.billing.operations._invoices_operations.InvoicesOperations instance\n",
      "    Lists the invoices for a subscription. The operation is supported for billing accounts with\n",
      "    agreement type Microsoft Partner Agreement or Microsoft Customer Agreement.\n",
      "\n",
      "    .. seealso::\n",
      "       - https://docs.microsoft.com/en-us/rest/api/billing/\n",
      "\n",
      "    :param period_start_date: The start date of the billing period for which the invoice is\n",
      "     generated. The date is in MM-DD-YYYY format. Default value is None.\n",
      "    :type period_start_date: ~datetime.date\n",
      "    :param period_end_date: The end date of the billing period for which the invoice is generated.\n",
      "     The date is in MM-DD-YYYY format. Default value is None.\n",
      "    :type period_end_date: ~datetime.date\n",
      "    :param filter: The filter query option allows clients to filter a collection of resources that\n",
      "     are addressed by a request URL. Default value is None.\n",
      "    :type filter: str\n",
      "    :param order_by: The orderby query option allows clients to request resources in a particular\n",
      "     order. Default value is None.\n",
      "    :type order_by: str\n",
      "    :param top: The top query option requests the number of items in the queried collection to be\n",
      "     included in the result. The maximum supported value for top is 50. Default value is None.\n",
      "    :type top: int\n",
      "    :param skip: The skip query option requests the number of items in the queried collection that\n",
      "     are to be skipped and not included in the result. Default value is None.\n",
      "    :type skip: int\n",
      "    :param count: The count query option allows clients to request a count of the matching\n",
      "     resources included with the resources in the response. Default value is None.\n",
      "    :type count: bool\n",
      "    :param search: The search query option allows clients to request items within a collection\n",
      "     matching a free-text search expression. search is only supported for string fields. Default\n",
      "     value is None.\n",
      "    :type search: str\n",
      "    :return: An iterator like instance of either Invoice or the result of cls(response)\n",
      "    :rtype: ~azure.core.paging.ItemPaged[~azure.mgmt.billing.models.Invoice]\n",
      "    :raises ~azure.core.exceptions.HttpResponseError:\n",
      "\n",
      "None\n"
     ]
    }
   ],
   "source": [
    "#billing_client_list_by_subscription = help(billing_client.invoices.list_by_billing_subscription)\n",
    "#print(billing_client_list_by_subscription)\n"
   ]
  },
  {
   "cell_type": "code",
   "execution_count": 10,
   "metadata": {},
   "outputs": [
    {
     "ename": "HttpResponseError",
     "evalue": "(Forbidden) User is not authorized to view invoices for subscription '856880af-e2ac-41b2-b5fb-e7ebfe4d97bc'.\nCode: Forbidden\nMessage: User is not authorized to view invoices for subscription '856880af-e2ac-41b2-b5fb-e7ebfe4d97bc'.",
     "output_type": "error",
     "traceback": [
      "\u001b[31m---------------------------------------------------------------------------\u001b[39m",
      "\u001b[31mHttpResponseError\u001b[39m                         Traceback (most recent call last)",
      "\u001b[36mCell\u001b[39m\u001b[36m \u001b[39m\u001b[32mIn[10]\u001b[39m\u001b[32m, line 1\u001b[39m\n\u001b[32m----> \u001b[39m\u001b[32m1\u001b[39m \u001b[38;5;28;43;01mfor\u001b[39;49;00m\u001b[43m \u001b[49m\u001b[43minvoice\u001b[49m\u001b[43m \u001b[49m\u001b[38;5;129;43;01min\u001b[39;49;00m\u001b[43m \u001b[49m\u001b[43mbilling_client\u001b[49m\u001b[43m.\u001b[49m\u001b[43minvoices\u001b[49m\u001b[43m.\u001b[49m\u001b[43mlist_by_billing_subscription\u001b[49m\u001b[43m(\u001b[49m\u001b[43m)\u001b[49m\u001b[43m:\u001b[49m\n\u001b[32m      2\u001b[39m \u001b[43m    \u001b[49m\u001b[38;5;28;43mprint\u001b[39;49m\u001b[43m(\u001b[49m\u001b[43minvoice\u001b[49m\u001b[43m)\u001b[49m\n",
      "\u001b[36mFile \u001b[39m\u001b[32m~/.local/lib/python3.12/site-packages/azure/core/paging.py:123\u001b[39m, in \u001b[36mItemPaged.__next__\u001b[39m\u001b[34m(self)\u001b[39m\n\u001b[32m    121\u001b[39m \u001b[38;5;28;01mif\u001b[39;00m \u001b[38;5;28mself\u001b[39m._page_iterator \u001b[38;5;129;01mis\u001b[39;00m \u001b[38;5;28;01mNone\u001b[39;00m:\n\u001b[32m    122\u001b[39m     \u001b[38;5;28mself\u001b[39m._page_iterator = itertools.chain.from_iterable(\u001b[38;5;28mself\u001b[39m.by_page())\n\u001b[32m--> \u001b[39m\u001b[32m123\u001b[39m \u001b[38;5;28;01mreturn\u001b[39;00m \u001b[38;5;28;43mnext\u001b[39;49m\u001b[43m(\u001b[49m\u001b[38;5;28;43mself\u001b[39;49m\u001b[43m.\u001b[49m\u001b[43m_page_iterator\u001b[49m\u001b[43m)\u001b[49m\n",
      "\u001b[36mFile \u001b[39m\u001b[32m~/.local/lib/python3.12/site-packages/azure/core/paging.py:75\u001b[39m, in \u001b[36mPageIterator.__next__\u001b[39m\u001b[34m(self)\u001b[39m\n\u001b[32m     73\u001b[39m     \u001b[38;5;28;01mraise\u001b[39;00m \u001b[38;5;167;01mStopIteration\u001b[39;00m(\u001b[33m\"\u001b[39m\u001b[33mEnd of paging\u001b[39m\u001b[33m\"\u001b[39m)\n\u001b[32m     74\u001b[39m \u001b[38;5;28;01mtry\u001b[39;00m:\n\u001b[32m---> \u001b[39m\u001b[32m75\u001b[39m     \u001b[38;5;28mself\u001b[39m._response = \u001b[38;5;28;43mself\u001b[39;49m\u001b[43m.\u001b[49m\u001b[43m_get_next\u001b[49m\u001b[43m(\u001b[49m\u001b[38;5;28;43mself\u001b[39;49m\u001b[43m.\u001b[49m\u001b[43mcontinuation_token\u001b[49m\u001b[43m)\u001b[49m\n\u001b[32m     76\u001b[39m \u001b[38;5;28;01mexcept\u001b[39;00m AzureError \u001b[38;5;28;01mas\u001b[39;00m error:\n\u001b[32m     77\u001b[39m     \u001b[38;5;28;01mif\u001b[39;00m \u001b[38;5;129;01mnot\u001b[39;00m error.continuation_token:\n",
      "\u001b[36mFile \u001b[39m\u001b[32m~/.local/lib/python3.12/site-packages/azure/mgmt/billing/operations/_invoices_operations.py:1917\u001b[39m, in \u001b[36mInvoicesOperations.list_by_billing_subscription.<locals>.get_next\u001b[39m\u001b[34m(next_link)\u001b[39m\n\u001b[32m   1915\u001b[39m     map_error(status_code=response.status_code, response=response, error_map=error_map)\n\u001b[32m   1916\u001b[39m     error = \u001b[38;5;28mself\u001b[39m._deserialize.failsafe_deserialize(_models.ErrorResponse, pipeline_response)\n\u001b[32m-> \u001b[39m\u001b[32m1917\u001b[39m     \u001b[38;5;28;01mraise\u001b[39;00m HttpResponseError(response=response, model=error, error_format=ARMErrorFormat)\n\u001b[32m   1919\u001b[39m \u001b[38;5;28;01mreturn\u001b[39;00m pipeline_response\n",
      "\u001b[31mHttpResponseError\u001b[39m: (Forbidden) User is not authorized to view invoices for subscription '856880af-e2ac-41b2-b5fb-e7ebfe4d97bc'.\nCode: Forbidden\nMessage: User is not authorized to view invoices for subscription '856880af-e2ac-41b2-b5fb-e7ebfe4d97bc'."
     ]
    }
   ],
   "source": [
    "#for invoice in billing_client.invoices.list_by_billing_subscription():\n",
    "#    print(invoice)"
   ]
  },
  {
   "cell_type": "markdown",
   "metadata": {},
   "source": [
    "**ensure you give yourself sufficient permissions (Billing reader, Usage Billing Contributor)**"
   ]
  },
  {
   "cell_type": "code",
   "execution_count": null,
   "metadata": {},
   "outputs": [],
   "source": []
  }
 ],
 "metadata": {
  "kernelspec": {
   "display_name": "Python 3 (ipykernel)",
   "language": "python",
   "name": "python3"
  },
  "language_info": {
   "codemirror_mode": {
    "name": "ipython",
    "version": 3
   },
   "file_extension": ".py",
   "mimetype": "text/x-python",
   "name": "python",
   "nbconvert_exporter": "python",
   "pygments_lexer": "ipython3",
   "version": "3.12.3"
  }
 },
 "nbformat": 4,
 "nbformat_minor": 4
}
