{
 "cells": [
  {
   "cell_type": "markdown",
   "metadata": {},
   "source": [
    "## Azure Billing and cost management\n",
    "\n",
    "**For Billing management we gonna use:**\n",
    "- `azure-mgmt-billing` Used for Billing accounts, Billing profiles, Customers Invoices.\n",
    "<br><br>\n",
    "\n",
    "**For cost management we gonna use:**\n",
    "- `azure-mgmt-cost-management` Used for Usage date forcasted usage, Cost data export.\n",
    "<br><br>\n",
    "\n",
    "**For consumption management we gonna use:**\n",
    "- `azure-mgmt-consumption` Used for Budgets, Usage details, Charges."
   ]
  },
  {
   "cell_type": "markdown",
   "metadata": {},
   "source": [
    "to get billing information in Python, we'll use the ***BillingManagementClient*** from the `azure-mgmt-billing` library.\n",
    "We can use this to interact with:\n",
    "- Billing accounts.\n",
    "- Billing profiles.\n",
    "- Customers.\n",
    "- Invoices.\n",
    "- And more...\n"
   ]
  },
  {
   "cell_type": "code",
   "execution_count": 110,
   "metadata": {},
   "outputs": [],
   "source": [
    "import json\n",
    "from azure.identity import AzureCliCredential\n",
    "from azure.mgmt.billing import BillingManagementClient\n",
    "from setting import setting_func"
   ]
  },
  {
   "cell_type": "markdown",
   "metadata": {},
   "source": [
    "*the `setting` file include a function fetches some secret in `.env` file.\n",
    "By Following that way we are avoiding hard codinf secrets. meanwhile `.env` shouldn't push to repo.*<br>\n",
    "\n",
    "The `.env` content should be like the following:<br>\n",
    "`AZURE_SUBSCRIPTION_ID=\"SUBSCRIPTION_ID\"`"
   ]
  },
  {
   "cell_type": "code",
   "execution_count": 111,
   "metadata": {},
   "outputs": [],
   "source": [
    "(  # Fetching settings from the setting module\n",
    "    AZURE_SUBSCRIPTION_ID,\n",
    "    DATA_LAKE_CONNECTION_STRING,\n",
    "    CONNECTION_STRING,\n",
    "    AZURE_CLIENT_ID,\n",
    "    AZURE_TENANT_ID,\n",
    "    AZURE_CLIENT_SECRET,\n",
    "    STORAGE_ACCESS_KEY,\n",
    "    DEFAULT_RESOURCE_GROUP,\n",
    "    DEFAULT_LOCATION,\n",
    "    BILLING_ACCOUNT_NAME,\n",
    ") = setting_func()"
   ]
  },
  {
   "cell_type": "code",
   "execution_count": 112,
   "metadata": {},
   "outputs": [],
   "source": [
    "credential = AzureCliCredential()  # Using Azure CLI credentials for authentication\n",
    "billing_client = BillingManagementClient(credential, AZURE_SUBSCRIPTION_ID)  # Creating a billing client and passing the required parameters"
   ]
  },
  {
   "cell_type": "markdown",
   "metadata": {},
   "source": [
    "Run the following command in your terminal to get authenticated:\n",
    "```bash\n",
    "az login --scope https://management.azure.com/.default\n",
    "```"
   ]
  },
  {
   "cell_type": "code",
   "execution_count": 113,
   "metadata": {},
   "outputs": [
    {
     "name": "stdout",
     "output_type": "stream",
     "text": [
      "<azure.mgmt.billing._billing_management_client.BillingManagementClient object at 0x7f9ad3408aa0>\n"
     ]
    }
   ],
   "source": [
    "print(billing_client)  # Output the billing client object to verify successful creation\n",
    "# billing client is an object include # methods to interact with Azure Billing APIs, such as retrieving invoices, billing periods, etc."
   ]
  },
  {
   "cell_type": "code",
   "execution_count": 114,
   "metadata": {},
   "outputs": [
    {
     "name": "stdout",
     "output_type": "stream",
     "text": [
      "[\n",
      "    \"__class__\",\n",
      "    \"__delattr__\",\n",
      "    \"__dict__\",\n",
      "    \"__dir__\",\n",
      "    \"__doc__\",\n",
      "    \"__enter__\",\n",
      "    \"__eq__\",\n",
      "    \"__exit__\",\n",
      "    \"__format__\",\n",
      "    \"__ge__\",\n",
      "    \"__getattribute__\",\n",
      "    \"__getstate__\",\n",
      "    \"__gt__\",\n",
      "    \"__hash__\",\n",
      "    \"__init__\",\n",
      "    \"__init_subclass__\",\n",
      "    \"__le__\",\n",
      "    \"__lt__\",\n",
      "    \"__module__\",\n",
      "    \"__ne__\",\n",
      "    \"__new__\",\n",
      "    \"__reduce__\",\n",
      "    \"__reduce_ex__\",\n",
      "    \"__repr__\",\n",
      "    \"__setattr__\",\n",
      "    \"__sizeof__\",\n",
      "    \"__str__\",\n",
      "    \"__subclasshook__\",\n",
      "    \"__weakref__\",\n",
      "    \"_client\",\n",
      "    \"_config\",\n",
      "    \"_deserialize\",\n",
      "    \"_send_request\",\n",
      "    \"_serialize\",\n",
      "    \"address\",\n",
      "    \"agreements\",\n",
      "    \"associated_tenants\",\n",
      "    \"available_balances\",\n",
      "    \"billing_accounts\",\n",
      "    \"billing_permissions\",\n",
      "    \"billing_profiles\",\n",
      "    \"billing_property\",\n",
      "    \"billing_requests\",\n",
      "    \"billing_role_assignments\",\n",
      "    \"billing_role_definition\",\n",
      "    \"billing_subscriptions\",\n",
      "    \"billing_subscriptions_aliases\",\n",
      "    \"close\",\n",
      "    \"customers\",\n",
      "    \"departments\",\n",
      "    \"enrollment_accounts\",\n",
      "    \"invoice_sections\",\n",
      "    \"invoices\",\n",
      "    \"operations\",\n",
      "    \"partner_transfers\",\n",
      "    \"payment_methods\",\n",
      "    \"policies\",\n",
      "    \"products\",\n",
      "    \"recipient_transfers\",\n",
      "    \"reservation_orders\",\n",
      "    \"reservations\",\n",
      "    \"savings_plan_orders\",\n",
      "    \"savings_plans\",\n",
      "    \"transactions\",\n",
      "    \"transfers\"\n",
      "]\n"
     ]
    }
   ],
   "source": [
    "billing_client_methods = dir(billing_client)  # Getting the list of methods available in the billing client\n",
    "print(json.dumps(billing_client_methods, indent=4, default=str))  # Printing the methods in a formatted JSON style"
   ]
  },
  {
   "cell_type": "markdown",
   "metadata": {},
   "source": [
    "**Here's the methods that billing client can do:**\n",
    "*to discover more use `dir` method*\n",
    "\n",
    "    \"_client\",\n",
    "    \"_config\",\n",
    "    \"_deserialize\",\n",
    "    \"_send_request\",\n",
    "    \"_serialize\",\n",
    "    \"address\",\n",
    "    \"agreements\",\n",
    "    \"associated_tenants\",\n",
    "    \"available_balances\",\n",
    "    \"billing_accounts\",\n",
    "    \"billing_permissions\",\n",
    "    \"billing_profiles\",\n",
    "    \"billing_property\",\n",
    "    \"billing_requests\",\n",
    "    \"billing_role_assignments\",\n",
    "    \"billing_role_definition\",\n",
    "    \"billing_subscriptions\",\n",
    "    \"billing_subscriptions_aliases\",\n",
    "    \"close\",\n",
    "    \"customers\",\n",
    "    \"departments\",\n",
    "    \"enrollment_accounts\",\n",
    "    \"invoice_sections\",\n",
    "    \"invoices\",\n",
    "    \"operations\",\n",
    "    \"partner_transfers\",\n",
    "    \"payment_methods\",\n",
    "    \"policies\",\n",
    "    \"products\",\n",
    "    \"recipient_transfers\",\n",
    "    \"reservation_orders\",\n",
    "    \"reservations\",\n",
    "    \"savings_plan_orders\",\n",
    "    \"savings_plans\",\n",
    "    \"transactions\",\n",
    "    \"transfers\""
   ]
  },
  {
   "cell_type": "markdown",
   "metadata": {},
   "source": [
    "**List `billing_accounts` methods**"
   ]
  },
  {
   "cell_type": "code",
   "execution_count": 115,
   "metadata": {},
   "outputs": [
    {
     "name": "stdout",
     "output_type": "stream",
     "text": [
      "[\n",
      "    \"__class__\",\n",
      "    \"__delattr__\",\n",
      "    \"__dict__\",\n",
      "    \"__dir__\",\n",
      "    \"__doc__\",\n",
      "    \"__eq__\",\n",
      "    \"__format__\",\n",
      "    \"__ge__\",\n",
      "    \"__getattribute__\",\n",
      "    \"__getstate__\",\n",
      "    \"__gt__\",\n",
      "    \"__hash__\",\n",
      "    \"__init__\",\n",
      "    \"__init_subclass__\",\n",
      "    \"__le__\",\n",
      "    \"__lt__\",\n",
      "    \"__module__\",\n",
      "    \"__ne__\",\n",
      "    \"__new__\",\n",
      "    \"__reduce__\",\n",
      "    \"__reduce_ex__\",\n",
      "    \"__repr__\",\n",
      "    \"__setattr__\",\n",
      "    \"__sizeof__\",\n",
      "    \"__str__\",\n",
      "    \"__subclasshook__\",\n",
      "    \"__weakref__\",\n",
      "    \"_add_payment_terms_initial\",\n",
      "    \"_cancel_payment_terms_initial\",\n",
      "    \"_client\",\n",
      "    \"_config\",\n",
      "    \"_deserialize\",\n",
      "    \"_serialize\",\n",
      "    \"_update_initial\",\n",
      "    \"begin_add_payment_terms\",\n",
      "    \"begin_cancel_payment_terms\",\n",
      "    \"begin_update\",\n",
      "    \"confirm_transition\",\n",
      "    \"get\",\n",
      "    \"list\",\n",
      "    \"list_invoice_sections_by_create_subscription_permission\",\n",
      "    \"models\",\n",
      "    \"validate_payment_terms\"\n",
      "]\n"
     ]
    }
   ],
   "source": [
    "billing_accounts_methods = dir(billing_client.billing_accounts)  # Getting the list of methods available in the billing accounts\n",
    "print(json.dumps(billing_accounts_methods, indent=4, default=str))  # Printing the methods in a formatted JSON style"
   ]
  },
  {
   "cell_type": "markdown",
   "metadata": {},
   "source": [
    "**List billing account attributes**"
   ]
  },
  {
   "cell_type": "code",
   "execution_count": 116,
   "metadata": {},
   "outputs": [
    {
     "name": "stdout",
     "output_type": "stream",
     "text": [
      "Billing Account Name: ca9bd292-e90d-5f53-0554-6dffa0ce3a9c:c1ca22c2-98ed-43c5-91bc-feba5db2d6ed_2019-05-31,\n",
      "ID: /providers/Microsoft.Billing/billingAccounts/ca9bd292-e90d-5f53-0554-6dffa0ce3a9c:c1ca22c2-98ed-43c5-91bc-feba5db2d6ed_2019-05-31, \n",
      "Account Type: Microsoft.Billing/billingAccounts\n"
     ]
    }
   ],
   "source": [
    "for account in billing_client.billing_accounts.list():\n",
    "    #print(json.dumps(account, indent=4, default=str))\n",
    "    print(f\"Billing Account Name: {account.name},\\nID: {account.id}, \\nAccount Type: {account.type}\")  # Iterating through billing accounts and printing their names and IDs"
   ]
  },
  {
   "cell_type": "code",
   "execution_count": 117,
   "metadata": {},
   "outputs": [
    {
     "name": "stdout",
     "output_type": "stream",
     "text": [
      "Billing Profile display name: mohamed ibrahim mahmoud eleraki,\n",
      "Billing Profile ID: /providers/Microsoft.Billing/billingAccounts/ca9bd292-e90d-5f53-0554-6dffa0ce3a9c:c1ca22c2-98ed-43c5-91bc-feba5db2d6ed_2019-05-31/billingProfiles/ZPQJ-IN76-BG7-PGB, \n",
      "Billing profile system ID: ZPQJ-IN76-BG7-PGB, \n",
      "Billing profile status: Active, \n",
      "Azure Plan: [<azure.mgmt.billing.models._models_py3.AzurePlan object at 0x7f9ad3487e90>]\n",
      "Product ID: None, \n",
      "SKU_ID: 0001, \n",
      "SKU Description: Microsoft Azure Plan\n"
     ]
    }
   ],
   "source": [
    "for account in billing_client.billing_accounts.list_invoice_sections_by_create_subscription_permission(billing_account_name=BILLING_ACCOUNT_NAME):\n",
    "    print(f\"Billing Profile display name: {account.billing_profile_display_name},\\nBilling Profile ID: {account.billing_profile_id}, \\nBilling profile system ID: {account.billing_profile_system_id}, \\nBilling profile status: {account.billing_profile_status}, \\nAzure Plan: {account.enabled_azure_plans}\")  # Iterating through billing accounts and printing their names and IDs\n",
    "    for plan in account.enabled_azure_plans:\n",
    "        print(f\"Product ID: {plan.product_id}, \\nSKU_ID: {plan.sku_id}, \\nSKU Description: {plan.sku_description}\")"
   ]
  },
  {
   "cell_type": "markdown",
   "metadata": {},
   "source": [
    "**List billing profile attributes**"
   ]
  },
  {
   "cell_type": "code",
   "execution_count": 118,
   "metadata": {},
   "outputs": [
    {
     "name": "stdout",
     "output_type": "stream",
     "text": [
      "[\n",
      "    \"__class__\",\n",
      "    \"__delattr__\",\n",
      "    \"__dict__\",\n",
      "    \"__dir__\",\n",
      "    \"__doc__\",\n",
      "    \"__eq__\",\n",
      "    \"__format__\",\n",
      "    \"__ge__\",\n",
      "    \"__getattribute__\",\n",
      "    \"__getstate__\",\n",
      "    \"__gt__\",\n",
      "    \"__hash__\",\n",
      "    \"__init__\",\n",
      "    \"__init_subclass__\",\n",
      "    \"__le__\",\n",
      "    \"__lt__\",\n",
      "    \"__module__\",\n",
      "    \"__ne__\",\n",
      "    \"__new__\",\n",
      "    \"__reduce__\",\n",
      "    \"__reduce_ex__\",\n",
      "    \"__repr__\",\n",
      "    \"__setattr__\",\n",
      "    \"__sizeof__\",\n",
      "    \"__str__\",\n",
      "    \"__subclasshook__\",\n",
      "    \"__weakref__\",\n",
      "    \"_client\",\n",
      "    \"_config\",\n",
      "    \"_create_or_update_initial\",\n",
      "    \"_delete_initial\",\n",
      "    \"_deserialize\",\n",
      "    \"_serialize\",\n",
      "    \"begin_create_or_update\",\n",
      "    \"begin_delete\",\n",
      "    \"get\",\n",
      "    \"list_by_billing_account\",\n",
      "    \"models\",\n",
      "    \"validate_delete_eligibility\"\n",
      "]\n"
     ]
    }
   ],
   "source": [
    "billing_profile_methods = dir(billing_client.billing_profiles)  # Getting the list of methods available in the billing profiles\n",
    "print(json.dumps(billing_profile_methods, indent=4, default=str))  # Printing the methods in a formatted JSON style"
   ]
  },
  {
   "cell_type": "code",
   "execution_count": 119,
   "metadata": {},
   "outputs": [
    {
     "name": "stdout",
     "output_type": "stream",
     "text": [
      "ID: /providers/Microsoft.Billing/billingAccounts/ca9bd292-e90d-5f53-0554-6dffa0ce3a9c:c1ca22c2-98ed-43c5-91bc-feba5db2d6ed_2019-05-31/billingProfiles/ZPQJ-IN76-BG7-PGB, \n",
      "name: ZPQJ-IN76-BG7-PGB, \n",
      "Type: Microsoft.Billing/billingAccounts/billingProfiles, \n",
      "Tags: None\n",
      "{'additional_properties': {}, 'created_by': None, 'created_by_type': None, 'created_at': datetime.datetime(2021, 10, 10, 19, 54, 47, 782793, tzinfo=<isodate.tzinfo.Utc object at 0x7f9ad39be060>), 'last_modified_by': None, 'last_modified_by_type': None, 'last_modified_at': datetime.datetime(2021, 10, 10, 19, 54, 49, 184965, tzinfo=<isodate.tzinfo.Utc object at 0x7f9ad39be060>)}\n",
      "{'additional_properties': {}, 'provisioning_state': None, 'billing_relationship_type': 'Direct', 'bill_to': <azure.mgmt.billing.models._models_py3.BillingProfilePropertiesBillTo object at 0x7f9ad348eea0>, 'currency': 'USD', 'display_name': 'mohamed ibrahim mahmoud eleraki', 'enabled_azure_plans': [<azure.mgmt.billing.models._models_py3.AzurePlan object at 0x7f9ad348da30>], 'has_read_access': True, 'indirect_relationship_info': None, 'invoice_day': 9, 'invoice_email_opt_in': True, 'invoice_recipients': ['mohamed-ibrahim2021@outlook.com'], 'po_number': None, 'ship_to': None, 'sold_to': <azure.mgmt.billing.models._models_py3.BillingProfilePropertiesSoldTo object at 0x7f9ad348ed50>, 'spending_limit': 'Off', 'spending_limit_details': None, 'status': 'Active', 'status_reason_code': None, 'system_id': 'ZPQJ-IN76-BG7-PGB', 'tags': None, 'target_clouds': [], 'current_payment_term': None, 'other_payment_terms': None}\n"
     ]
    }
   ],
   "source": [
    "for account in billing_client.billing_profiles.list_by_billing_account(billing_account_name=BILLING_ACCOUNT_NAME):\n",
    "    print(f\"ID: {account.id}, \\nname: {account.name}, \\nType: {account.type}, \\nTags: {account.tags}\")  # Iterating through billing profiles and printing their details\n",
    "    print(account.system_data)\n",
    "    print(account.properties)"
   ]
  },
  {
   "cell_type": "markdown",
   "metadata": {},
   "source": [
    "**List Invoices**"
   ]
  },
  {
   "cell_type": "code",
   "execution_count": 120,
   "metadata": {},
   "outputs": [
    {
     "name": "stdout",
     "output_type": "stream",
     "text": [
      "[\n",
      "    \"__class__\",\n",
      "    \"__delattr__\",\n",
      "    \"__dict__\",\n",
      "    \"__dir__\",\n",
      "    \"__doc__\",\n",
      "    \"__eq__\",\n",
      "    \"__format__\",\n",
      "    \"__ge__\",\n",
      "    \"__getattribute__\",\n",
      "    \"__getstate__\",\n",
      "    \"__gt__\",\n",
      "    \"__hash__\",\n",
      "    \"__init__\",\n",
      "    \"__init_subclass__\",\n",
      "    \"__le__\",\n",
      "    \"__lt__\",\n",
      "    \"__module__\",\n",
      "    \"__ne__\",\n",
      "    \"__new__\",\n",
      "    \"__reduce__\",\n",
      "    \"__reduce_ex__\",\n",
      "    \"__repr__\",\n",
      "    \"__setattr__\",\n",
      "    \"__sizeof__\",\n",
      "    \"__str__\",\n",
      "    \"__subclasshook__\",\n",
      "    \"__weakref__\",\n",
      "    \"_amend_initial\",\n",
      "    \"_client\",\n",
      "    \"_config\",\n",
      "    \"_deserialize\",\n",
      "    \"_download_by_billing_account_initial\",\n",
      "    \"_download_by_billing_subscription_initial\",\n",
      "    \"_download_documents_by_billing_account_initial\",\n",
      "    \"_download_documents_by_billing_subscription_initial\",\n",
      "    \"_download_summary_by_billing_account_initial\",\n",
      "    \"_serialize\",\n",
      "    \"begin_amend\",\n",
      "    \"begin_download_by_billing_account\",\n",
      "    \"begin_download_by_billing_subscription\",\n",
      "    \"begin_download_documents_by_billing_account\",\n",
      "    \"begin_download_documents_by_billing_subscription\",\n",
      "    \"begin_download_summary_by_billing_account\",\n",
      "    \"get\",\n",
      "    \"get_by_billing_account\",\n",
      "    \"get_by_billing_subscription\",\n",
      "    \"list_by_billing_account\",\n",
      "    \"list_by_billing_profile\",\n",
      "    \"list_by_billing_subscription\",\n",
      "    \"models\"\n",
      "]\n"
     ]
    }
   ],
   "source": [
    "billing_client_invoice_methods = dir(billing_client.invoices)  # Getting the list of methods available in the invoices\n",
    "print(json.dumps(billing_client_invoice_methods, indent=4, default=str))  # Printing the methods in a formatted JSON style"
   ]
  },
  {
   "cell_type": "code",
   "execution_count": 121,
   "metadata": {},
   "outputs": [],
   "source": [
    "#billing_client_list_by_subscription = help(billing_client.invoices.list_by_billing_subscription)\n",
    "#print(billing_client_list_by_subscription)\n"
   ]
  },
  {
   "cell_type": "code",
   "execution_count": 122,
   "metadata": {},
   "outputs": [],
   "source": [
    "#for invoice in billing_client.invoices.list_by_billing_subscription():\n",
    "#    print(invoice)"
   ]
  },
  {
   "cell_type": "markdown",
   "metadata": {},
   "source": [
    "**ensure you give yourself sufficient permissions (Billing reader, Usage Billing Contributor)**"
   ]
  },
  {
   "cell_type": "code",
   "execution_count": 128,
   "metadata": {},
   "outputs": [
    {
     "name": "stdout",
     "output_type": "stream",
     "text": [
      "Help on method list_by_billing_account in module azure.mgmt.billing.operations._invoices_operations:\n",
      "\n",
      "list_by_billing_account(billing_account_name: str, period_start_date: Optional[datetime.date] = None, period_end_date: Optional[datetime.date] = None, filter: Optional[str] = None, order_by: Optional[str] = None, top: Optional[int] = None, skip: Optional[int] = None, count: Optional[bool] = None, search: Optional[str] = None, **kwargs: Any) -> Iterable[ForwardRef('_models.Invoice')] method of azure.mgmt.billing.operations._invoices_operations.InvoicesOperations instance\n",
      "    Lists the invoices for a billing account for a given start date and end date. The operation is\n",
      "    supported for all billing account types.\n",
      "\n",
      "    .. seealso::\n",
      "       - https://docs.microsoft.com/en-us/rest/api/billing/\n",
      "\n",
      "    :param billing_account_name: The ID that uniquely identifies a billing account. Required.\n",
      "    :type billing_account_name: str\n",
      "    :param period_start_date: The start date of the billing period for which the invoice is\n",
      "     generated. The date is in MM-DD-YYYY format. Default value is None.\n",
      "    :type period_start_date: ~datetime.date\n",
      "    :param period_end_date: The end date of the billing period for which the invoice is generated.\n",
      "     The date is in MM-DD-YYYY format. Default value is None.\n",
      "    :type period_end_date: ~datetime.date\n",
      "    :param filter: The filter query option allows clients to filter a collection of resources that\n",
      "     are addressed by a request URL. Default value is None.\n",
      "    :type filter: str\n",
      "    :param order_by: The orderby query option allows clients to request resources in a particular\n",
      "     order. Default value is None.\n",
      "    :type order_by: str\n",
      "    :param top: The top query option requests the number of items in the queried collection to be\n",
      "     included in the result. The maximum supported value for top is 50. Default value is None.\n",
      "    :type top: int\n",
      "    :param skip: The skip query option requests the number of items in the queried collection that\n",
      "     are to be skipped and not included in the result. Default value is None.\n",
      "    :type skip: int\n",
      "    :param count: The count query option allows clients to request a count of the matching\n",
      "     resources included with the resources in the response. Default value is None.\n",
      "    :type count: bool\n",
      "    :param search: The search query option allows clients to request items within a collection\n",
      "     matching a free-text search expression. search is only supported for string fields. Default\n",
      "     value is None.\n",
      "    :type search: str\n",
      "    :return: An iterator like instance of either Invoice or the result of cls(response)\n",
      "    :rtype: ~azure.core.paging.ItemPaged[~azure.mgmt.billing.models.Invoice]\n",
      "    :raises ~azure.core.exceptions.HttpResponseError:\n",
      "\n"
     ]
    }
   ],
   "source": [
    "# get list_by_billing_account params\n",
    "help(billing_client.invoices.list_by_billing_account)"
   ]
  },
  {
   "cell_type": "code",
   "execution_count": 143,
   "metadata": {},
   "outputs": [
    {
     "name": "stdout",
     "output_type": "stream",
     "text": [
      "Invoice Name: G086250781, \n",
      "Due Date: 2025-04-09 01:30:30.393550+00:00, \n",
      "Amount due: 0.0 USD, \n",
      "Prepayment Applied: 0.0 USD, \n",
      "Billed profile name: mohamed ibrahim mahmoud eleraki, \n",
      "\n",
      "Invoice Name: G091675333, \n",
      "Due Date: 2025-05-09 04:36:46.250119+00:00, \n",
      "Amount due: 0.0 USD, \n",
      "Prepayment Applied: 0.0 USD, \n",
      "Billed profile name: mohamed ibrahim mahmoud eleraki, \n",
      "\n",
      "Invoice Name: G096239161, \n",
      "Due Date: 2025-06-09 03:17:42.487560+00:00, \n",
      "Amount due: 0.0 USD, \n",
      "Prepayment Applied: 0.0 USD, \n",
      "Billed profile name: mohamed ibrahim mahmoud eleraki, \n",
      "\n",
      "Invoice Name: G101178760, \n",
      "Due Date: 2025-07-09 02:54:30.011090+00:00, \n",
      "Amount due: 0.08 USD, \n",
      "Prepayment Applied: 0.0 USD, \n",
      "Billed profile name: mohamed ibrahim mahmoud eleraki, \n",
      "\n"
     ]
    }
   ],
   "source": [
    "for invoice in billing_client.invoices.list_by_billing_account(BILLING_ACCOUNT_NAME, '2025-01-01', '2025-06-30'):\n",
    "    print(f\"Invoice Name: {invoice.name}, \\nDue Date: {invoice.properties.due_date}, \\nAmount due: {invoice.properties.amount_due.value} {invoice.properties.amount_due.currency}, \\nPrepayment Applied: {invoice.properties.azure_prepayment_applied.value} {invoice.properties.azure_prepayment_applied.currency}, \\nBilled profile name: {invoice.properties.billing_profile_display_name}, \", end='\\n\\n')"
   ]
  },
  {
   "cell_type": "code",
   "execution_count": 146,
   "metadata": {},
   "outputs": [
    {
     "name": "stdout",
     "output_type": "stream",
     "text": [
      "Help on method get in module azure.mgmt.billing.operations._invoices_operations:\n",
      "\n",
      "get(invoice_name: str, **kwargs: Any) -> azure.mgmt.billing.models._models_py3.Invoice method of azure.mgmt.billing.operations._invoices_operations.InvoicesOperations instance\n",
      "    Gets an invoice by ID. The operation is supported for billing accounts with agreement type\n",
      "    Microsoft Partner Agreement or Microsoft Customer Agreement.\n",
      "\n",
      "    .. seealso::\n",
      "       - https://docs.microsoft.com/en-us/rest/api/billing/\n",
      "\n",
      "    :param invoice_name: The ID that uniquely identifies an invoice. Required.\n",
      "    :type invoice_name: str\n",
      "    :return: Invoice or the result of cls(response)\n",
      "    :rtype: ~azure.mgmt.billing.models.Invoice\n",
      "    :raises ~azure.core.exceptions.HttpResponseError:\n",
      "\n"
     ]
    }
   ],
   "source": [
    "help(billing_client.invoices.get)"
   ]
  },
  {
   "cell_type": "markdown",
   "metadata": {},
   "source": [
    "**Print specific invoice**"
   ]
  },
  {
   "cell_type": "code",
   "execution_count": 154,
   "metadata": {},
   "outputs": [
    {
     "name": "stdout",
     "output_type": "stream",
     "text": [
      "Name: G101178760, \n",
      "Amount Due: 0.08 USD,\n",
      "\n"
     ]
    }
   ],
   "source": [
    "jul_invoice = billing_client.invoices.get(invoice_name='G101178760')  # Fetching a specific invoice for July 2024\n",
    "print(f\"Name: {jul_invoice.name}, \\nAmount Due: {jul_invoice.properties.amount_due.value} {jul_invoice.properties.amount_due.currency},\", end='\\n\\n')"
   ]
  },
  {
   "cell_type": "markdown",
   "metadata": {},
   "source": [
    "**List by Billing profile**"
   ]
  },
  {
   "cell_type": "code",
   "execution_count": 156,
   "metadata": {},
   "outputs": [
    {
     "name": "stdout",
     "output_type": "stream",
     "text": [
      "[\n",
      "    \"__class__\",\n",
      "    \"__delattr__\",\n",
      "    \"__dict__\",\n",
      "    \"__dir__\",\n",
      "    \"__doc__\",\n",
      "    \"__eq__\",\n",
      "    \"__format__\",\n",
      "    \"__ge__\",\n",
      "    \"__getattribute__\",\n",
      "    \"__getstate__\",\n",
      "    \"__gt__\",\n",
      "    \"__hash__\",\n",
      "    \"__init__\",\n",
      "    \"__init_subclass__\",\n",
      "    \"__le__\",\n",
      "    \"__lt__\",\n",
      "    \"__module__\",\n",
      "    \"__ne__\",\n",
      "    \"__new__\",\n",
      "    \"__reduce__\",\n",
      "    \"__reduce_ex__\",\n",
      "    \"__repr__\",\n",
      "    \"__setattr__\",\n",
      "    \"__sizeof__\",\n",
      "    \"__str__\",\n",
      "    \"__subclasshook__\",\n",
      "    \"__weakref__\",\n",
      "    \"_client\",\n",
      "    \"_config\",\n",
      "    \"_create_or_update_initial\",\n",
      "    \"_delete_initial\",\n",
      "    \"_deserialize\",\n",
      "    \"_serialize\",\n",
      "    \"begin_create_or_update\",\n",
      "    \"begin_delete\",\n",
      "    \"get\",\n",
      "    \"list_by_billing_account\",\n",
      "    \"models\",\n",
      "    \"validate_delete_eligibility\"\n",
      "]\n"
     ]
    }
   ],
   "source": [
    "billing_profile_methods = dir(billing_client.billing_profiles)  # Getting the list of methods available in the billing profiles\n",
    "print(json.dumps(billing_profile_methods, indent=4, default=str))  # Printing the methods in a formatted JSON style"
   ]
  },
  {
   "cell_type": "code",
   "execution_count": 159,
   "metadata": {},
   "outputs": [
    {
     "name": "stdout",
     "output_type": "stream",
     "text": [
      "Help on method list_by_billing_account in module azure.mgmt.billing.operations._billing_profiles_operations:\n",
      "\n",
      "list_by_billing_account(billing_account_name: str, include_deleted: bool = False, filter: Optional[str] = None, order_by: Optional[str] = None, top: Optional[int] = None, skip: Optional[int] = None, count: Optional[bool] = None, search: Optional[str] = None, **kwargs: Any) -> Iterable[ForwardRef('_models.BillingProfile')] method of azure.mgmt.billing.operations._billing_profiles_operations.BillingProfilesOperations instance\n",
      "    Lists the billing profiles that a user has access to. The operation is supported for billing\n",
      "    accounts with agreement of type Microsoft Customer Agreement and Microsoft Partner Agreement.\n",
      "\n",
      "    .. seealso::\n",
      "       - https://docs.microsoft.com/en-us/rest/api/billing/\n",
      "\n",
      "    :param billing_account_name: The ID that uniquely identifies a billing account. Required.\n",
      "    :type billing_account_name: str\n",
      "    :param include_deleted: Can be used to get deleted billing profiles. Default value is False.\n",
      "    :type include_deleted: bool\n",
      "    :param filter: The filter query option allows clients to filter a collection of resources that\n",
      "     are addressed by a request URL. Default value is None.\n",
      "    :type filter: str\n",
      "    :param order_by: The orderby query option allows clients to request resources in a particular\n",
      "     order. Default value is None.\n",
      "    :type order_by: str\n",
      "    :param top: The top query option requests the number of items in the queried collection to be\n",
      "     included in the result. The maximum supported value for top is 50. Default value is None.\n",
      "    :type top: int\n",
      "    :param skip: The skip query option requests the number of items in the queried collection that\n",
      "     are to be skipped and not included in the result. Default value is None.\n",
      "    :type skip: int\n",
      "    :param count: The count query option allows clients to request a count of the matching\n",
      "     resources included with the resources in the response. Default value is None.\n",
      "    :type count: bool\n",
      "    :param search: The search query option allows clients to request items within a collection\n",
      "     matching a free-text search expression. search is only supported for string fields. Default\n",
      "     value is None.\n",
      "    :type search: str\n",
      "    :return: An iterator like instance of either BillingProfile or the result of cls(response)\n",
      "    :rtype: ~azure.core.paging.ItemPaged[~azure.mgmt.billing.models.BillingProfile]\n",
      "    :raises ~azure.core.exceptions.HttpResponseError:\n",
      "\n"
     ]
    }
   ],
   "source": [
    "help (billing_client.billing_profiles.list_by_billing_account)"
   ]
  },
  {
   "cell_type": "code",
   "execution_count": 161,
   "metadata": {},
   "outputs": [
    {
     "name": "stdout",
     "output_type": "stream",
     "text": [
      "Profile Name: ZPQJ-IN76-BG7-PGB, \n",
      "{'additional_properties': {}, 'created_by': None, 'created_by_type': None, 'created_at': datetime.datetime(2021, 10, 10, 19, 54, 47, 782793, tzinfo=<isodate.tzinfo.Utc object at 0x7f9ad39be060>), 'last_modified_by': None, 'last_modified_by_type': None, 'last_modified_at': datetime.datetime(2021, 10, 10, 19, 54, 49, 184965, tzinfo=<isodate.tzinfo.Utc object at 0x7f9ad39be060>)}, \n",
      "{'additional_properties': {}, 'provisioning_state': None, 'billing_relationship_type': 'Direct', 'bill_to': <azure.mgmt.billing.models._models_py3.BillingProfilePropertiesBillTo object at 0x7f9ad332fbc0>, 'currency': 'USD', 'display_name': 'mohamed ibrahim mahmoud eleraki', 'enabled_azure_plans': [<azure.mgmt.billing.models._models_py3.AzurePlan object at 0x7f9ad332fce0>], 'has_read_access': True, 'indirect_relationship_info': None, 'invoice_day': 9, 'invoice_email_opt_in': True, 'invoice_recipients': ['mohamed-ibrahim2021@outlook.com'], 'po_number': None, 'ship_to': None, 'sold_to': <azure.mgmt.billing.models._models_py3.BillingProfilePropertiesSoldTo object at 0x7f9ad332e240>, 'spending_limit': 'Off', 'spending_limit_details': None, 'status': 'Active', 'status_reason_code': None, 'system_id': 'ZPQJ-IN76-BG7-PGB', 'tags': None, 'target_clouds': [], 'current_payment_term': None, 'other_payment_terms': None}\n"
     ]
    }
   ],
   "source": [
    "for profile in billing_client.billing_profiles.list_by_billing_account(billing_account_name=BILLING_ACCOUNT_NAME):\n",
    "    print(f\"Profile Name: {profile.name}, \\n{profile.system_data}, \\n{profile.properties}\")"
   ]
  }
 ],
 "metadata": {
  "kernelspec": {
   "display_name": "Python 3 (ipykernel)",
   "language": "python",
   "name": "python3"
  },
  "language_info": {
   "codemirror_mode": {
    "name": "ipython",
    "version": 3
   },
   "file_extension": ".py",
   "mimetype": "text/x-python",
   "name": "python",
   "nbconvert_exporter": "python",
   "pygments_lexer": "ipython3",
   "version": "3.12.3"
  }
 },
 "nbformat": 4,
 "nbformat_minor": 4
}
