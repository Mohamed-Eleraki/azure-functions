{
 "cells": [
  {
   "cell_type": "code",
   "execution_count": null,
   "metadata": {},
   "outputs": [],
   "source": [
    "from azure.identity import AzureCliCredential\n",
    "from azure.mgmt.storage import StorageManagementClient\n",
    "from azure.storage.blob import BlobServiceClient\n",
    "from setting import setting_func"
   ]
  },
  {
   "cell_type": "code",
   "execution_count": null,
   "metadata": {},
   "outputs": [],
   "source": [
    "(   \n",
    "    AZURE_SUBSCRIPTION_ID,\n",
    "    DATA_LAKE_CONNECTION_STRING,\n",
    "    CONNECTION_STRING,\n",
    "    AZURE_CLIENT_ID,\n",
    "    AZURE_TENANT_ID,\n",
    "    AZURE_CLIENT_SECRET,\n",
    "    STORAGE_ACCESS_KEY,\n",
    "    DEFAULT_RESOURCE_GROUP,\n",
    "    DEFAULT_LOCATION,\n",
    ") = setting_func()"
   ]
  },
  {
   "cell_type": "code",
   "execution_count": null,
   "metadata": {},
   "outputs": [],
   "source": [
    "credential = AzureCliCredential()\n",
    "blob_service_client = BlobServiceClient(\n",
    "    account_url=\"https://testst3001.blob.core.windows.net/\",\n",
    "    credential=credential\n",
    ")"
   ]
  },
  {
   "cell_type": "code",
   "execution_count": null,
   "metadata": {},
   "outputs": [],
   "source": [
    "container_client = blob_service_client.get_container_client(\n",
    "    container=\"container_name\"\n",
    ")"
   ]
  },
  {
   "cell_type": "code",
   "execution_count": null,
   "metadata": {},
   "outputs": [],
   "source": [
    "container_client.delete_container()"
   ]
  }
 ],
 "metadata": {
  "language_info": {
   "name": "python"
  }
 },
 "nbformat": 4,
 "nbformat_minor": 2
}
