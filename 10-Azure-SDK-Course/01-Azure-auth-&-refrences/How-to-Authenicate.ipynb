{
 "cells": [
  {
   "cell_type": "markdown",
   "metadata": {},
   "source": [
    "# How to authenicate from a Python script to Azure using the Azure Identity library.\n",
    "---"
   ]
  },
  {
   "cell_type": "code",
   "execution_count": null,
   "metadata": {},
   "outputs": [],
   "source": [
    "from azure.identity import *"
   ]
  },
  {
   "cell_type": "code",
   "execution_count": null,
   "metadata": {},
   "outputs": [],
   "source": [
    "credential = AzureCliCredential()  # Recomended - for linux  - run az login first and foremost "
   ]
  },
  {
   "cell_type": "code",
   "execution_count": null,
   "metadata": {},
   "outputs": [],
   "source": [
    "credential = AzurePowerShellCredential()  # for windows - by connect-azaccount command"
   ]
  },
  {
   "cell_type": "code",
   "execution_count": null,
   "metadata": {},
   "outputs": [],
   "source": [
    "credential = InteractiveBrowserCredential()  # for interactive login - will pop-up if you didn't login using CLI."
   ]
  },
  {
   "cell_type": "code",
   "execution_count": null,
   "metadata": {},
   "outputs": [
    {
     "name": "stderr",
     "output_type": "stream",
     "text": [
      "/tmp/ipykernel_76118/150479816.py:1: DeprecationWarning: This credential is deprecated because the Azure Account extension for Visual Studio Code, which this credential relies on, has been deprecated. See the Azure Account extension deprecation notice here: https://github.com/microsoft/vscode-azure-account/issues/964. Consider using other developer credentials such as AzureCliCredential, AzureDeveloperCliCredential, or AzurePowerShellCredential.\n",
      "  credential = VisualStudioCodeCredential()  # for Visual Studio Code - will use the account you logged in with VS Code.\n"
     ]
    }
   ],
   "source": [
    "credential = VisualStudioCodeCredential()  # for Visual Studio Code - will use the account you logged in with VS Code."
   ]
  },
  {
   "cell_type": "code",
   "execution_count": null,
   "metadata": {},
   "outputs": [],
   "source": [
    "credential = EnvironmentCredential()  # for environment variables - AZURE_CLIENT_ID, AZURE_TENANT_ID, AZURE_CLIENT_SECRET"
   ]
  },
  {
   "cell_type": "code",
   "execution_count": null,
   "metadata": {},
   "outputs": [
    {
     "ename": "TypeError",
     "evalue": "UsernamePasswordCredential.__init__() missing 3 required positional arguments: 'client_id', 'username', and 'password'",
     "output_type": "error",
     "traceback": [
      "\u001b[31m---------------------------------------------------------------------------\u001b[39m",
      "\u001b[31mTypeError\u001b[39m                                 Traceback (most recent call last)",
      "\u001b[36mCell\u001b[39m\u001b[36m \u001b[39m\u001b[32mIn[6]\u001b[39m\u001b[32m, line 1\u001b[39m\n\u001b[32m----> \u001b[39m\u001b[32m1\u001b[39m credential = \u001b[43mUsernamePasswordCredential\u001b[49m\u001b[43m(\u001b[49m\u001b[43m)\u001b[49m  \u001b[38;5;66;03m# for username and password - not recommended for production use\u001b[39;00m\n",
      "\u001b[31mTypeError\u001b[39m: UsernamePasswordCredential.__init__() missing 3 required positional arguments: 'client_id', 'username', and 'password'"
     ]
    }
   ],
   "source": [
    "credential = UsernamePasswordCredential()  # for username and password - not recommended for production use"
   ]
  },
  {
   "cell_type": "code",
   "execution_count": null,
   "metadata": {},
   "outputs": [],
   "source": [
    "credential = DefaultAzureCredential()  # Good one to use - for default credential - will try all the above methods in order until one succeeds\n",
    "# starts with EnvironmentCredential, \n",
    "# then ManagedIdentityCredential, \n",
    "# then AzureCliCredential, \n",
    "# then AzurePowerShellCredential, \n",
    "# then InteractiveBrowserCredential, \n",
    "# then VisualStudioCodeCredential, \n",
    "# and finally UsernamePasswordCredential"
   ]
  }
 ],
 "metadata": {
  "kernelspec": {
   "display_name": "Python 3",
   "language": "python",
   "name": "python3"
  },
  "language_info": {
   "codemirror_mode": {
    "name": "ipython",
    "version": 3
   },
   "file_extension": ".py",
   "mimetype": "text/x-python",
   "name": "python",
   "nbconvert_exporter": "python",
   "pygments_lexer": "ipython3",
   "version": "3.12.3"
  }
 },
 "nbformat": 4,
 "nbformat_minor": 2
}
