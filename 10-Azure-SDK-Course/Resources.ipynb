{
 "cells": [
  {
   "cell_type": "markdown",
   "metadata": {},
   "source": [
    "## Resources\n",
    "- Python SDK for Azure Bootcamp - Udemy course.\n",
    "- [Python for Azure SDK - Google Drive](https://drive.google.com/drive/folders/1IEbLzGUN_GByYHEZpMm8fTp6S46xC_xw)\n",
    "- [Pierian-Data/Python-for-Azure-SDK](https://github.com/pierian-data/python-for-azure-sdk)\n",
    "- [Azure python SDK docs](https://learn.microsoft.com/en-us/azure/developer/python/sdk/azure-sdk-overview) ✨\n",
    "\n",
    "- [Create and manage Azure resources with management libraries](https://learn.microsoft.com/en-us/azure/developer/python/sdk/azure-sdk-overview#create-and-manage-azure-resources-with-management-libraries)\n",
    "- [Connect to and use Azure resources with client libraries](https://learn.microsoft.com/en-us/azure/developer/python/sdk/azure-sdk-overview#connect-to-and-use-azure-resources-with-client-libraries)\n",
    "- [Azure SDK source-code](https://github.com/Azure/azure-sdk-for-python)"
   ]
  }
 ],
 "metadata": {
  "language_info": {
   "name": "python"
  }
 },
 "nbformat": 4,
 "nbformat_minor": 2
}
