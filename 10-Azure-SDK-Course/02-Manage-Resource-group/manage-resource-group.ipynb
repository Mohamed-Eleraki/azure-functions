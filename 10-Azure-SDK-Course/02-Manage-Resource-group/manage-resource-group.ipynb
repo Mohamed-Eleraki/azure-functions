{
 "cells": [
  {
   "cell_type": "markdown",
   "metadata": {},
   "source": [
    "# Manage Resource groups using Azure SDK"
   ]
  },
  {
   "cell_type": "markdown",
   "metadata": {},
   "source": [
    "## Prerequisists\n",
    "1. Install depends\n",
    "```bash\n",
    "pip install -r requirements.txt\n",
    "```\n",
    "\n",
    "---"
   ]
  },
  {
   "cell_type": "code",
   "execution_count": 159,
   "metadata": {},
   "outputs": [
    {
     "name": "stdout",
     "output_type": "stream",
     "text": [
      "29dd3246-89c7-4a10-a467-059257e724a4\n",
      "/home/eraki/Documents/gitReposPersonal/azure-functions/10-Azure-SDK-Course/02-Manage-Resource-group\n"
     ]
    }
   ],
   "source": [
    "from azure.identity import AzureCliCredential\n",
    "from azure.mgmt.resource import ResourceManagementClient \n",
    "from settings import AZURE_SUBSCRIPTION_ID\n",
    "import os\n",
    "from dotenv import load_dotenv\n",
    "\n",
    "# load from .env file - avoiding notebook issues\n",
    "load_dotenv((os.path.join(\".env\")))\n",
    "AZURE_SUBSCRIPTION_ID = os.getenv(\"AZURE_SUBSCRIPTION_ID\")\n",
    "print(AZURE_SUBSCRIPTION_ID)\n",
    "print(os.getcwd())"
   ]
  },
  {
   "cell_type": "code",
   "execution_count": 160,
   "metadata": {},
   "outputs": [],
   "source": [
    "credential = AzureCliCredential()"
   ]
  },
  {
   "cell_type": "code",
   "execution_count": 161,
   "metadata": {},
   "outputs": [],
   "source": [
    "# AZURE_SUBSCRIPTION_ID = \"SUBSCRIPTION iD\"  # Juptur noot book issue - Replace with your actual subscription ID\n",
    "resource_client = ResourceManagementClient(credential, AZURE_SUBSCRIPTION_ID)"
   ]
  },
  {
   "cell_type": "markdown",
   "metadata": {},
   "source": [
    "### Create a resource group"
   ]
  },
  {
   "cell_type": "code",
   "execution_count": 162,
   "metadata": {},
   "outputs": [],
   "source": [
    "rg_result = resource_client.resource_groups.create_or_update(\n",
    " 'eraki_eastus_rg_1001',\n",
    " {'location': 'eastus'},   \n",
    ")"
   ]
  },
  {
   "cell_type": "code",
   "execution_count": 163,
   "metadata": {},
   "outputs": [
    {
     "data": {
      "text/plain": [
       "'eastus'"
      ]
     },
     "execution_count": 163,
     "metadata": {},
     "output_type": "execute_result"
    }
   ],
   "source": [
    "rg_result.location"
   ]
  },
  {
   "cell_type": "code",
   "execution_count": 164,
   "metadata": {},
   "outputs": [
    {
     "data": {
      "text/plain": [
       "'eraki_eastus_rg_1001'"
      ]
     },
     "execution_count": 164,
     "metadata": {},
     "output_type": "execute_result"
    }
   ],
   "source": [
    "rg_result.name"
   ]
  },
  {
   "cell_type": "markdown",
   "metadata": {},
   "source": [
    "### Update resource group"
   ]
  },
  {
   "cell_type": "code",
   "execution_count": 165,
   "metadata": {},
   "outputs": [],
   "source": [
    "rg__upd_result = resource_client.resource_groups.create_or_update(\n",
    "    resource_group_name='eraki_eastus_rg_1001',\n",
    "    parameters={\n",
    "        'location': 'eastus',\n",
    "        'tags': {'environment': 'development', 'department': 'engineering'}\n",
    "    }\n",
    ")"
   ]
  },
  {
   "cell_type": "code",
   "execution_count": 166,
   "metadata": {},
   "outputs": [
    {
     "data": {
      "text/plain": [
       "{'environment': 'development', 'department': 'engineering'}"
      ]
     },
     "execution_count": 166,
     "metadata": {},
     "output_type": "execute_result"
    }
   ],
   "source": [
    "rg__upd_result.tags"
   ]
  },
  {
   "cell_type": "markdown",
   "metadata": {},
   "source": [
    "### list resource groups"
   ]
  },
  {
   "cell_type": "code",
   "execution_count": 167,
   "metadata": {},
   "outputs": [],
   "source": [
    "group_list = resource_client.resource_groups.list()\n"
   ]
  },
  {
   "cell_type": "code",
   "execution_count": 168,
   "metadata": {},
   "outputs": [
    {
     "name": "stdout",
     "output_type": "stream",
     "text": [
      "Resource Group Name: eraki_eastus_rg_1001, Location: eastus, Tags: {'environment': 'development', 'department': 'engineering'}\n"
     ]
    }
   ],
   "source": [
    "for rg in group_list:\n",
    "    print(f\"Resource Group Name: {rg.name}, Location: {rg.location}, Tags: {rg.tags}\")"
   ]
  },
  {
   "cell_type": "markdown",
   "metadata": {},
   "source": [
    "### get resource group attributes"
   ]
  },
  {
   "cell_type": "code",
   "execution_count": 169,
   "metadata": {},
   "outputs": [
    {
     "name": "stdout",
     "output_type": "stream",
     "text": [
      "{'additional_properties': {}, 'id': '/subscriptions/29dd3246-89c7-4a10-a467-059257e724a4/resourceGroups/eraki_eastus_rg_1001', 'name': 'eraki_eastus_rg_1001', 'type': 'Microsoft.Resources/resourceGroups', 'properties': <azure.mgmt.resource.resources.v2025_03_01.models._models_py3.ResourceGroupProperties object at 0x7f23e08dcda0>, 'location': 'eastus', 'managed_by': None, 'tags': {'environment': 'development', 'department': 'engineering'}}\n",
      "eastus\n",
      "{'environment': 'development', 'department': 'engineering'}\n"
     ]
    }
   ],
   "source": [
    "rg_info = resource_client.resource_groups.get('eraki_eastus_rg_1001')\n",
    "print(rg_info)\n",
    "print(rg_info.location)\n",
    "print(rg_info.tags)"
   ]
  },
  {
   "cell_type": "markdown",
   "metadata": {},
   "source": [
    "---\n",
    "# Delete resource group"
   ]
  },
  {
   "cell_type": "code",
   "execution_count": 170,
   "metadata": {},
   "outputs": [
    {
     "name": "stdout",
     "output_type": "stream",
     "text": [
      "Resource Group Name: eraki_eastus_rg_1001, Location: eastus\n"
     ]
    }
   ],
   "source": [
    "for rg in resource_client.resource_groups.list():\n",
    "    print(f\"Resource Group Name: {rg.name}, Location: {rg.location}\")"
   ]
  },
  {
   "cell_type": "code",
   "execution_count": 171,
   "metadata": {},
   "outputs": [],
   "source": [
    "rg_result = resource_client.resource_groups.begin_delete(resource_group_name='eraki_eastus_rg_1001')\n",
    "# \"begin delete\" which it takes a while to delete\n",
    "rg_result.wait()"
   ]
  },
  {
   "cell_type": "code",
   "execution_count": 173,
   "metadata": {},
   "outputs": [],
   "source": [
    "for rg in resource_client.resource_groups.list():\n",
    "    print(f\"Resource Group Name: {rg.name}, Location: {rg.location}\")"
   ]
  }
 ],
 "metadata": {
  "kernelspec": {
   "display_name": "Python 3",
   "language": "python",
   "name": "python3"
  },
  "language_info": {
   "codemirror_mode": {
    "name": "ipython",
    "version": 3
   },
   "file_extension": ".py",
   "mimetype": "text/x-python",
   "name": "python",
   "nbconvert_exporter": "python",
   "pygments_lexer": "ipython3",
   "version": "3.12.3"
  }
 },
 "nbformat": 4,
 "nbformat_minor": 2
}
