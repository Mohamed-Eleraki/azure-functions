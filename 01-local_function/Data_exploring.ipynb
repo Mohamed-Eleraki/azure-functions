{
  "metadata": {
    "kernelspec": {
      "name": "python",
      "display_name": "Python (Pyodide)",
      "language": "python"
    },
    "language_info": {
      "codemirror_mode": {
        "name": "python",
        "version": 3
      },
      "file_extension": ".py",
      "mimetype": "text/x-python",
      "name": "python",
      "nbconvert_exporter": "python",
      "pygments_lexer": "ipython3",
      "version": "3.8"
    }
  },
  "nbformat_minor": 5,
  "nbformat": 4,
  "cells": [
    {
      "id": "b5f438f8-0706-449f-876a-17981a678b23",
      "cell_type": "markdown",
      "source": "# Exploring Pandas functoins",
      "metadata": {}
    },
    {
      "id": "509ded7e-588b-4228-892a-892957f8a78c",
      "cell_type": "code",
      "source": "import pandas as pd",
      "metadata": {
        "trusted": true
      },
      "outputs": [],
      "execution_count": null
    },
    {
      "id": "538d635c-3039-48ce-bab6-518e915d8dfe",
      "cell_type": "code",
      "source": "pd.DataFrame(\n    {\n        \"A\":[1,2,3],\n        \"B\":[4,5,6]\n    }\n)",
      "metadata": {
        "trusted": true
      },
      "outputs": [
        {
          "execution_count": 6,
          "output_type": "execute_result",
          "data": {
            "text/plain": "   A  B\n0  1  4\n1  2  5\n2  3  6",
            "text/html": "<div>\n<style scoped>\n    .dataframe tbody tr th:only-of-type {\n        vertical-align: middle;\n    }\n\n    .dataframe tbody tr th {\n        vertical-align: top;\n    }\n\n    .dataframe thead th {\n        text-align: right;\n    }\n</style>\n<table border=\"1\" class=\"dataframe\">\n  <thead>\n    <tr style=\"text-align: right;\">\n      <th></th>\n      <th>A</th>\n      <th>B</th>\n    </tr>\n  </thead>\n  <tbody>\n    <tr>\n      <th>0</th>\n      <td>1</td>\n      <td>4</td>\n    </tr>\n    <tr>\n      <th>1</th>\n      <td>2</td>\n      <td>5</td>\n    </tr>\n    <tr>\n      <th>2</th>\n      <td>3</td>\n      <td>6</td>\n    </tr>\n  </tbody>\n</table>\n</div>"
          },
          "metadata": {}
        }
      ],
      "execution_count": 6
    },
    {
      "id": "af66e6b5-298b-49bd-8a62-84af25486441",
      "cell_type": "markdown",
      "source": "# Data Exploding",
      "metadata": {}
    },
    {
      "id": "54d5081f-248e-4410-bb09-c589bb16dc7f",
      "cell_type": "code",
      "source": "import numpy as np",
      "metadata": {
        "trusted": true
      },
      "outputs": [],
      "execution_count": 9
    },
    {
      "id": "663336fb-6ae1-4651-acdf-48ef1ea60bcc",
      "cell_type": "code",
      "source": "df = pd.DataFrame(\n    {\n        'A':[\n            [0,1,2], \n            'foo', \n            [], \n            [3,4]\n        ],\n        \n        'B': 1,\n        \n        'C': [\n            ['a', 'b', 'c'], \n            np.nan, \n            [], \n            ['d', 'e']\n        ]\n    }\n)",
      "metadata": {
        "trusted": true
      },
      "outputs": [],
      "execution_count": 10
    },
    {
      "id": "f0c8e870-ae8c-4cc4-9339-d96c241c6343",
      "cell_type": "code",
      "source": "df",
      "metadata": {
        "trusted": true
      },
      "outputs": [
        {
          "execution_count": 11,
          "output_type": "execute_result",
          "data": {
            "text/plain": "           A  B          C\n0  [0, 1, 2]  1  [a, b, c]\n1        foo  1        NaN\n2         []  1         []\n3     [3, 4]  1     [d, e]",
            "text/html": "<div>\n<style scoped>\n    .dataframe tbody tr th:only-of-type {\n        vertical-align: middle;\n    }\n\n    .dataframe tbody tr th {\n        vertical-align: top;\n    }\n\n    .dataframe thead th {\n        text-align: right;\n    }\n</style>\n<table border=\"1\" class=\"dataframe\">\n  <thead>\n    <tr style=\"text-align: right;\">\n      <th></th>\n      <th>A</th>\n      <th>B</th>\n      <th>C</th>\n    </tr>\n  </thead>\n  <tbody>\n    <tr>\n      <th>0</th>\n      <td>[0, 1, 2]</td>\n      <td>1</td>\n      <td>[a, b, c]</td>\n    </tr>\n    <tr>\n      <th>1</th>\n      <td>foo</td>\n      <td>1</td>\n      <td>NaN</td>\n    </tr>\n    <tr>\n      <th>2</th>\n      <td>[]</td>\n      <td>1</td>\n      <td>[]</td>\n    </tr>\n    <tr>\n      <th>3</th>\n      <td>[3, 4]</td>\n      <td>1</td>\n      <td>[d, e]</td>\n    </tr>\n  </tbody>\n</table>\n</div>"
          },
          "metadata": {}
        }
      ],
      "execution_count": 11
    },
    {
      "id": "71ba2e1d-ea9c-44ab-95c6-af7ca8b4608b",
      "cell_type": "code",
      "source": "df.explode(\"A\")  # exploading A content and dublicate the rest of columns",
      "metadata": {
        "trusted": true
      },
      "outputs": [
        {
          "execution_count": 12,
          "output_type": "execute_result",
          "data": {
            "text/plain": "     A  B          C\n0    0  1  [a, b, c]\n0    1  1  [a, b, c]\n0    2  1  [a, b, c]\n1  foo  1        NaN\n2  NaN  1         []\n3    3  1     [d, e]\n3    4  1     [d, e]",
            "text/html": "<div>\n<style scoped>\n    .dataframe tbody tr th:only-of-type {\n        vertical-align: middle;\n    }\n\n    .dataframe tbody tr th {\n        vertical-align: top;\n    }\n\n    .dataframe thead th {\n        text-align: right;\n    }\n</style>\n<table border=\"1\" class=\"dataframe\">\n  <thead>\n    <tr style=\"text-align: right;\">\n      <th></th>\n      <th>A</th>\n      <th>B</th>\n      <th>C</th>\n    </tr>\n  </thead>\n  <tbody>\n    <tr>\n      <th>0</th>\n      <td>0</td>\n      <td>1</td>\n      <td>[a, b, c]</td>\n    </tr>\n    <tr>\n      <th>0</th>\n      <td>1</td>\n      <td>1</td>\n      <td>[a, b, c]</td>\n    </tr>\n    <tr>\n      <th>0</th>\n      <td>2</td>\n      <td>1</td>\n      <td>[a, b, c]</td>\n    </tr>\n    <tr>\n      <th>1</th>\n      <td>foo</td>\n      <td>1</td>\n      <td>NaN</td>\n    </tr>\n    <tr>\n      <th>2</th>\n      <td>NaN</td>\n      <td>1</td>\n      <td>[]</td>\n    </tr>\n    <tr>\n      <th>3</th>\n      <td>3</td>\n      <td>1</td>\n      <td>[d, e]</td>\n    </tr>\n    <tr>\n      <th>3</th>\n      <td>4</td>\n      <td>1</td>\n      <td>[d, e]</td>\n    </tr>\n  </tbody>\n</table>\n</div>"
          },
          "metadata": {}
        }
      ],
      "execution_count": 12
    },
    {
      "id": "6028f840-3dc4-4190-abc9-7d3ab7062f86",
      "cell_type": "markdown",
      "source": "# json normalize",
      "metadata": {}
    },
    {
      "id": "67c0a60d-cadb-48f0-8dac-3b6a8fd4c06a",
      "cell_type": "code",
      "source": "data = [\n    {\n        \"id\": 1,\n        \"name\": \"eraki\",\n        \"fitness\": {\"height\": 178, \"weight\": 70},\n    },\n    {\n        \"name\": \"ahmed\",\n        \"fitness\": {\"height\": 168, \"weight\": 60},\n    },\n    {\n        \"id\": 2,\n        \"name\": \"mostafa\",\n        \"fitness\": {\"height\": 168, \"weight\": 90},       \n    }\n]",
      "metadata": {
        "trusted": true
      },
      "outputs": [],
      "execution_count": 14
    },
    {
      "id": "b5dbbd22-e4a9-4ffc-8ad5-67220d60526b",
      "cell_type": "code",
      "source": "pd.json_normalize(data)",
      "metadata": {
        "trusted": true
      },
      "outputs": [
        {
          "execution_count": 15,
          "output_type": "execute_result",
          "data": {
            "text/plain": "    id     name  fitness.height  fitness.weight\n0  1.0    eraki             178              70\n1  NaN    ahmed             168              60\n2  2.0  mostafa             168              90",
            "text/html": "<div>\n<style scoped>\n    .dataframe tbody tr th:only-of-type {\n        vertical-align: middle;\n    }\n\n    .dataframe tbody tr th {\n        vertical-align: top;\n    }\n\n    .dataframe thead th {\n        text-align: right;\n    }\n</style>\n<table border=\"1\" class=\"dataframe\">\n  <thead>\n    <tr style=\"text-align: right;\">\n      <th></th>\n      <th>id</th>\n      <th>name</th>\n      <th>fitness.height</th>\n      <th>fitness.weight</th>\n    </tr>\n  </thead>\n  <tbody>\n    <tr>\n      <th>0</th>\n      <td>1.0</td>\n      <td>eraki</td>\n      <td>178</td>\n      <td>70</td>\n    </tr>\n    <tr>\n      <th>1</th>\n      <td>NaN</td>\n      <td>ahmed</td>\n      <td>168</td>\n      <td>60</td>\n    </tr>\n    <tr>\n      <th>2</th>\n      <td>2.0</td>\n      <td>mostafa</td>\n      <td>168</td>\n      <td>90</td>\n    </tr>\n  </tbody>\n</table>\n</div>"
          },
          "metadata": {}
        }
      ],
      "execution_count": 15
    },
    {
      "id": "2428d3f5-dcd2-48e7-b1d8-f1cf85d12b70",
      "cell_type": "code",
      "source": "pd.DataFrame(data)",
      "metadata": {
        "trusted": true
      },
      "outputs": [
        {
          "execution_count": 16,
          "output_type": "execute_result",
          "data": {
            "text/plain": "    id     name                        fitness\n0  1.0    eraki  {'height': 178, 'weight': 70}\n1  NaN    ahmed  {'height': 168, 'weight': 60}\n2  2.0  mostafa  {'height': 168, 'weight': 90}",
            "text/html": "<div>\n<style scoped>\n    .dataframe tbody tr th:only-of-type {\n        vertical-align: middle;\n    }\n\n    .dataframe tbody tr th {\n        vertical-align: top;\n    }\n\n    .dataframe thead th {\n        text-align: right;\n    }\n</style>\n<table border=\"1\" class=\"dataframe\">\n  <thead>\n    <tr style=\"text-align: right;\">\n      <th></th>\n      <th>id</th>\n      <th>name</th>\n      <th>fitness</th>\n    </tr>\n  </thead>\n  <tbody>\n    <tr>\n      <th>0</th>\n      <td>1.0</td>\n      <td>eraki</td>\n      <td>{'height': 178, 'weight': 70}</td>\n    </tr>\n    <tr>\n      <th>1</th>\n      <td>NaN</td>\n      <td>ahmed</td>\n      <td>{'height': 168, 'weight': 60}</td>\n    </tr>\n    <tr>\n      <th>2</th>\n      <td>2.0</td>\n      <td>mostafa</td>\n      <td>{'height': 168, 'weight': 90}</td>\n    </tr>\n  </tbody>\n</table>\n</div>"
          },
          "metadata": {}
        }
      ],
      "execution_count": 16
    },
    {
      "id": "338fd0e2-8852-49fb-a008-a2df92eb4e7a",
      "cell_type": "code",
      "source": "jn = pd.json_normalize(data)",
      "metadata": {
        "trusted": true
      },
      "outputs": [],
      "execution_count": 17
    },
    {
      "id": "04ee2b55-3bb3-436e-9a84-89d933709e95",
      "cell_type": "code",
      "source": "csv = jn.to_csv()\nprint(csv)",
      "metadata": {
        "trusted": true
      },
      "outputs": [
        {
          "name": "stdout",
          "output_type": "stream",
          "text": ",id,name,fitness.height,fitness.weight\n0,1.0,eraki,178,70\n1,,ahmed,168,60\n2,2.0,mostafa,168,90\n\n"
        }
      ],
      "execution_count": 19
    },
    {
      "id": "c6004257-39f2-4ff1-ac57-05aaf29cb6bf",
      "cell_type": "code",
      "source": "",
      "metadata": {
        "trusted": true
      },
      "outputs": [],
      "execution_count": null
    }
  ]
}